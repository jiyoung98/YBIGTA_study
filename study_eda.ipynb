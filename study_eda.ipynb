{
 "cells": [
  {
   "cell_type": "markdown",
   "metadata": {},
   "source": [
    "# EDA,FE 스터디_한지영_2021.01.27\n",
    "\n",
    "<br>\n",
    "<div> 데이터 출처: https://www.dacon.io/competitions/official/235687/data/  </div>\n",
    "<p> EDA는 https://www.dacon.io/competitions/official/235687/codeshare/2299?page=1&dtype=recent&ptype=pub 코드 돌려보며 코드와 데이터를 먼저 이해하고 FE 할 예정 </p>"
   ]
  },
  {
   "cell_type": "code",
   "execution_count": 2,
   "metadata": {},
   "outputs": [],
   "source": [
    "import pandas as pd\n",
    "import numpy as np\n",
    "import datetime as dt\n",
    "import matplotlib.pyplot as plt\n",
    "import seaborn as sns\n",
    "\n",
    "# from tqdm import tqdm\n",
    "# import gc\n",
    "# import random\n",
    "# import lightgbm as lgb\n",
    "# import re\n",
    "# from sklearn.metrics import *\n",
    "# from sklearn.model_selection import KFold\n",
    "# import warnings\n",
    "# warnings.filterwarnings(action='ignore')"
   ]
  },
  {
   "cell_type": "code",
   "execution_count": 6,
   "metadata": {},
   "outputs": [],
   "source": [
    "PATH = './data/'\n",
    "train_err  = pd.read_csv(PATH+'train_err_data.csv')\n",
    "train_quality  = pd.read_csv(PATH+'train_quality_data.csv')\n",
    "\n",
    "test_err  = pd.read_csv(PATH+'test_err_data.csv')\n",
    "test_quality  = pd.read_csv(PATH+'test_quality_data.csv')"
   ]
  },
  {
   "cell_type": "code",
   "execution_count": 7,
   "metadata": {},
   "outputs": [
    {
     "name": "stdout",
     "output_type": "stream",
     "text": [
      "-- Size -- \n",
      "train_err : (16554663, 6)\n",
      "test_err  : (16532648, 6)\n"
     ]
    }
   ],
   "source": [
    "# train_err\n",
    "print(\"-- Size -- \")\n",
    "print(f\"train_err : {train_err.shape}\")\n",
    "print(f\"test_err  : {test_err.shape}\")"
   ]
  },
  {
   "cell_type": "code",
   "execution_count": 9,
   "metadata": {},
   "outputs": [
    {
     "name": "stdout",
     "output_type": "stream",
     "text": [
      "Index([], dtype='object')\n",
      "Index([], dtype='object')\n"
     ]
    }
   ],
   "source": [
    "# Train-set에만 있는 칼럼은?\n",
    "print(train_err.columns.difference( test_err.columns ))\n",
    "print(train_quality.columns.difference( test_quality.columns ))"
   ]
  },
  {
   "cell_type": "code",
   "execution_count": 11,
   "metadata": {},
   "outputs": [
    {
     "data": {
      "text/html": [
       "<div>\n",
       "<style scoped>\n",
       "    .dataframe tbody tr th:only-of-type {\n",
       "        vertical-align: middle;\n",
       "    }\n",
       "\n",
       "    .dataframe tbody tr th {\n",
       "        vertical-align: top;\n",
       "    }\n",
       "\n",
       "    .dataframe thead th {\n",
       "        text-align: right;\n",
       "    }\n",
       "</style>\n",
       "<table border=\"1\" class=\"dataframe\">\n",
       "  <thead>\n",
       "    <tr style=\"text-align: right;\">\n",
       "      <th></th>\n",
       "      <th>user_id</th>\n",
       "      <th>time</th>\n",
       "      <th>model_nm</th>\n",
       "      <th>fwver</th>\n",
       "      <th>errtype</th>\n",
       "      <th>errcode</th>\n",
       "    </tr>\n",
       "  </thead>\n",
       "  <tbody>\n",
       "    <tr>\n",
       "      <th>0</th>\n",
       "      <td>10000</td>\n",
       "      <td>20201101025616</td>\n",
       "      <td>model_3</td>\n",
       "      <td>05.15.2138</td>\n",
       "      <td>15</td>\n",
       "      <td>1</td>\n",
       "    </tr>\n",
       "    <tr>\n",
       "      <th>1</th>\n",
       "      <td>10000</td>\n",
       "      <td>20201101030309</td>\n",
       "      <td>model_3</td>\n",
       "      <td>05.15.2138</td>\n",
       "      <td>12</td>\n",
       "      <td>1</td>\n",
       "    </tr>\n",
       "  </tbody>\n",
       "</table>\n",
       "</div>"
      ],
      "text/plain": [
       "   user_id            time model_nm       fwver  errtype errcode\n",
       "0    10000  20201101025616  model_3  05.15.2138       15       1\n",
       "1    10000  20201101030309  model_3  05.15.2138       12       1"
      ]
     },
     "metadata": {},
     "output_type": "display_data"
    },
    {
     "data": {
      "text/html": [
       "<div>\n",
       "<style scoped>\n",
       "    .dataframe tbody tr th:only-of-type {\n",
       "        vertical-align: middle;\n",
       "    }\n",
       "\n",
       "    .dataframe tbody tr th {\n",
       "        vertical-align: top;\n",
       "    }\n",
       "\n",
       "    .dataframe thead th {\n",
       "        text-align: right;\n",
       "    }\n",
       "</style>\n",
       "<table border=\"1\" class=\"dataframe\">\n",
       "  <thead>\n",
       "    <tr style=\"text-align: right;\">\n",
       "      <th></th>\n",
       "      <th>user_id</th>\n",
       "      <th>time</th>\n",
       "      <th>model_nm</th>\n",
       "      <th>fwver</th>\n",
       "      <th>errtype</th>\n",
       "      <th>errcode</th>\n",
       "    </tr>\n",
       "  </thead>\n",
       "  <tbody>\n",
       "    <tr>\n",
       "      <th>16554661</th>\n",
       "      <td>24999</td>\n",
       "      <td>20201130172631</td>\n",
       "      <td>model_3</td>\n",
       "      <td>05.15.2138</td>\n",
       "      <td>4</td>\n",
       "      <td>0</td>\n",
       "    </tr>\n",
       "    <tr>\n",
       "      <th>16554662</th>\n",
       "      <td>24999</td>\n",
       "      <td>20201130210625</td>\n",
       "      <td>model_3</td>\n",
       "      <td>05.15.2138</td>\n",
       "      <td>15</td>\n",
       "      <td>1</td>\n",
       "    </tr>\n",
       "  </tbody>\n",
       "</table>\n",
       "</div>"
      ],
      "text/plain": [
       "          user_id            time model_nm       fwver  errtype errcode\n",
       "16554661    24999  20201130172631  model_3  05.15.2138        4       0\n",
       "16554662    24999  20201130210625  model_3  05.15.2138       15       1"
      ]
     },
     "metadata": {},
     "output_type": "display_data"
    },
    {
     "data": {
      "text/html": [
       "<div>\n",
       "<style scoped>\n",
       "    .dataframe tbody tr th:only-of-type {\n",
       "        vertical-align: middle;\n",
       "    }\n",
       "\n",
       "    .dataframe tbody tr th {\n",
       "        vertical-align: top;\n",
       "    }\n",
       "\n",
       "    .dataframe thead th {\n",
       "        text-align: right;\n",
       "    }\n",
       "</style>\n",
       "<table border=\"1\" class=\"dataframe\">\n",
       "  <thead>\n",
       "    <tr style=\"text-align: right;\">\n",
       "      <th></th>\n",
       "      <th>user_id</th>\n",
       "      <th>time</th>\n",
       "      <th>model_nm</th>\n",
       "      <th>fwver</th>\n",
       "      <th>errtype</th>\n",
       "      <th>errcode</th>\n",
       "    </tr>\n",
       "  </thead>\n",
       "  <tbody>\n",
       "    <tr>\n",
       "      <th>0</th>\n",
       "      <td>30000</td>\n",
       "      <td>20201101030227</td>\n",
       "      <td>model_1</td>\n",
       "      <td>04.16.3553</td>\n",
       "      <td>31</td>\n",
       "      <td>1</td>\n",
       "    </tr>\n",
       "    <tr>\n",
       "      <th>1</th>\n",
       "      <td>30000</td>\n",
       "      <td>20201101030227</td>\n",
       "      <td>model_1</td>\n",
       "      <td>04.16.3553</td>\n",
       "      <td>33</td>\n",
       "      <td>2</td>\n",
       "    </tr>\n",
       "  </tbody>\n",
       "</table>\n",
       "</div>"
      ],
      "text/plain": [
       "   user_id            time model_nm       fwver  errtype errcode\n",
       "0    30000  20201101030227  model_1  04.16.3553       31       1\n",
       "1    30000  20201101030227  model_1  04.16.3553       33       2"
      ]
     },
     "metadata": {},
     "output_type": "display_data"
    },
    {
     "data": {
      "text/html": [
       "<div>\n",
       "<style scoped>\n",
       "    .dataframe tbody tr th:only-of-type {\n",
       "        vertical-align: middle;\n",
       "    }\n",
       "\n",
       "    .dataframe tbody tr th {\n",
       "        vertical-align: top;\n",
       "    }\n",
       "\n",
       "    .dataframe thead th {\n",
       "        text-align: right;\n",
       "    }\n",
       "</style>\n",
       "<table border=\"1\" class=\"dataframe\">\n",
       "  <thead>\n",
       "    <tr style=\"text-align: right;\">\n",
       "      <th></th>\n",
       "      <th>user_id</th>\n",
       "      <th>time</th>\n",
       "      <th>model_nm</th>\n",
       "      <th>fwver</th>\n",
       "      <th>errtype</th>\n",
       "      <th>errcode</th>\n",
       "    </tr>\n",
       "  </thead>\n",
       "  <tbody>\n",
       "    <tr>\n",
       "      <th>16532646</th>\n",
       "      <td>44998</td>\n",
       "      <td>20201130212259</td>\n",
       "      <td>model_1</td>\n",
       "      <td>04.16.3553</td>\n",
       "      <td>16</td>\n",
       "      <td>1</td>\n",
       "    </tr>\n",
       "    <tr>\n",
       "      <th>16532647</th>\n",
       "      <td>44998</td>\n",
       "      <td>20201130212316</td>\n",
       "      <td>model_1</td>\n",
       "      <td>04.16.3553</td>\n",
       "      <td>31</td>\n",
       "      <td>0</td>\n",
       "    </tr>\n",
       "  </tbody>\n",
       "</table>\n",
       "</div>"
      ],
      "text/plain": [
       "          user_id            time model_nm       fwver  errtype errcode\n",
       "16532646    44998  20201130212259  model_1  04.16.3553       16       1\n",
       "16532647    44998  20201130212316  model_1  04.16.3553       31       0"
      ]
     },
     "metadata": {},
     "output_type": "display_data"
    }
   ],
   "source": [
    "display(train_err.head(2))\n",
    "display(train_err.tail(2))\n",
    "display(test_err.head(2))\n",
    "display(test_err.tail(2))"
   ]
  },
  {
   "cell_type": "code",
   "execution_count": 12,
   "metadata": {},
   "outputs": [
    {
     "data": {
      "text/plain": [
       "'train_err'"
      ]
     },
     "metadata": {},
     "output_type": "display_data"
    },
    {
     "data": {
      "text/plain": [
       "min    10000\n",
       "max    24999\n",
       "Name: user_id, dtype: int64"
      ]
     },
     "metadata": {},
     "output_type": "display_data"
    },
    {
     "name": "stdout",
     "output_type": "stream",
     "text": [
      "Size : 16554663\n",
      "================================================================================\n"
     ]
    },
    {
     "data": {
      "text/plain": [
       "'test_err'"
      ]
     },
     "metadata": {},
     "output_type": "display_data"
    },
    {
     "data": {
      "text/plain": [
       "min    30000\n",
       "max    44998\n",
       "Name: user_id, dtype: int64"
      ]
     },
     "metadata": {},
     "output_type": "display_data"
    },
    {
     "name": "stdout",
     "output_type": "stream",
     "text": [
      "Size : 16532648\n"
     ]
    }
   ],
   "source": [
    "# train_err / test_err의 user_id는?\n",
    "display(\"train_err\", train_err['user_id'].agg(['min','max']) )\n",
    "print(f'Size : {len(train_err)}')\n",
    "\n",
    "print('='* 80)\n",
    "\n",
    "display(\"test_err\",  test_err['user_id'].agg(['min','max']) )\n",
    "print(f'Size : {len(test_err)}')"
   ]
  },
  {
   "cell_type": "code",
   "execution_count": 13,
   "metadata": {},
   "outputs": [
    {
     "data": {
      "text/plain": [
       "'train_err'"
      ]
     },
     "metadata": {},
     "output_type": "display_data"
    },
    {
     "data": {
      "text/plain": [
       "min    20201031235959\n",
       "max    20201202185152\n",
       "Name: time, dtype: int64"
      ]
     },
     "metadata": {},
     "output_type": "display_data"
    },
    {
     "name": "stdout",
     "output_type": "stream",
     "text": [
      "Size : 16554663\n",
      "================================================================================\n"
     ]
    },
    {
     "data": {
      "text/plain": [
       "'test_err'"
      ]
     },
     "metadata": {},
     "output_type": "display_data"
    },
    {
     "data": {
      "text/plain": [
       "min    20201031235959\n",
       "max    20201214120118\n",
       "Name: time, dtype: int64"
      ]
     },
     "metadata": {},
     "output_type": "display_data"
    },
    {
     "name": "stdout",
     "output_type": "stream",
     "text": [
      "Size : 16532648\n"
     ]
    }
   ],
   "source": [
    "# train_err / test_err 의 time는?\n",
    "display(\"train_err\",  train_err['time'].agg(['min','max']) )\n",
    "print(f'Size : {len(train_err)}')\n",
    "\n",
    "print('='* 80)\n",
    "\n",
    "display(\"test_err\",  test_err['time'].agg(['min','max']) )\n",
    "print(f'Size : {len(test_err)}')"
   ]
  },
  {
   "cell_type": "code",
   "execution_count": 14,
   "metadata": {},
   "outputs": [
    {
     "data": {
      "image/png": "[encoded data removed]",
      "text/plain": [
       "<Figure size 864x576 with 1 Axes>"
      ]
     },
     "metadata": {
      "needs_background": "light"
     },
     "output_type": "display_data"
    }
   ],
   "source": [
    "# train_err / test_err - time\n",
    "# Figure을 정의\n",
    "plt.figure(figsize = (12,8))\n",
    "\n",
    "# Train/Test-set 각각에서 특정 date가 몇 번 등장했는지 시각화 시킴\n",
    "train_err['time'].value_counts().sort_index().plot(color='b', lw=2, label='train')\n",
    "test_err['time'].value_counts().sort_index().plot(color='r',  lw=2, label='test')\n",
    "\n",
    "plt.legend()\n",
    "plt.xlabel(\"time\")\n",
    "plt.ylabel(\"# of rows\")\n",
    "plt.title(\"Distribution of date in Train/Test-ERR\");"
   ]
  },
  {
   "cell_type": "code",
   "execution_count": 9,
   "metadata": {},
   "outputs": [
    {
     "name": "stdout",
     "output_type": "stream",
     "text": [
      "Train-set에 있는 고유한 user_id 개수 : 15000\n",
      "Test-set에 있는 고유한 user_id 개수 : 14998\n",
      "================================================================================\n",
      "Train/Test-set에 공통으로 포함되어 있는 user_id 개수 : 0\n",
      "================================================================================\n",
      "Train-set에만 있는 user_id 총 15000개 입니다.\n",
      "================================================================================\n",
      "Test-set에만 있는 user_id 총 14998개 입니다.\n"
     ]
    }
   ],
   "source": [
    "# Train/Test-set의 고유한 user_id 구함.\n",
    "train_err_errtype_set = set(train_err['user_id'])\n",
    "test_err_errtype_set  = set(test_err['user_id'])\n",
    "\n",
    "\n",
    "# Train/Test-set 고유한 user_id 개수를 구함.\n",
    "print(f\"Train-set에 있는 고유한 user_id 개수 : { len(train_err_errtype_set) }\")\n",
    "print(f\"Test-set에 있는 고유한 user_id 개수 : { len(test_err_errtype_set) }\")\n",
    "\n",
    "# Train/Test-set 모두에 포함되어있는 user_id 구함.\n",
    "print('='* 80)\n",
    "common_errtype = train_err_errtype_set.intersection(test_err_errtype_set)\n",
    "print(f\"Train/Test-set에 공통으로 포함되어 있는 user_id 개수 : {len(common_errtype)}\")\n",
    "\n",
    "# Train-set에만 있는 user_id 구함.\n",
    "print('='* 80)\n",
    "only_train_err_errtype = train_err_errtype_set.difference(test_err_errtype_set)\n",
    "print(f\"Train-set에만 있는 user_id 총 { len(only_train_err_errtype) }개 입니다.\")\n",
    "#print(f\"Train-set에만 있는 user_id : { sorted(only_train_err_errtype ) }\")\n",
    "\n",
    "# Test-set에만 있는 user_id 구함.\n",
    "print('='* 80)\n",
    "only_test_err_errtype = test_err_errtype_set.difference(train_err_errtype_set)\n",
    "print(f\"Test-set에만 있는 user_id 총 { len(only_test_err_errtype) }개 입니다.\")\n",
    "#print(f\"Test-set에만 있는 user_id : { sorted( only_test_err_errtype ) }\")"
   ]
  },
  {
   "cell_type": "code",
   "execution_count": 10,
   "metadata": {},
   "outputs": [
    {
     "name": "stdout",
     "output_type": "stream",
     "text": [
      "Train-set에 있는 고유한 model_nm 개수 : 9\n",
      "Test-set에 있는 고유한 model_nm 개수 : 9\n",
      "================================================================================\n",
      "Train/Test-set에 공통으로 포함되어 있는 model_nm 개수 : 9\n",
      "================================================================================\n",
      "Train-set에만 있는 model_nm 총 0개 입니다.\n",
      "Train-set에만 있는 model_nm : []\n",
      "================================================================================\n",
      "Test-set에만 있는 model_nm 총 0개 입니다.\n",
      "Test-set에만 있는 model_nm : []\n"
     ]
    }
   ],
   "source": [
    "# Train/Test-set의 고유한 model_nm 구함.\n",
    "train_err_errtype_set = set(train_err['model_nm'])\n",
    "test_err_errtype_set  = set(test_err['model_nm'])\n",
    "\n",
    "\n",
    "# Train/Test-set 고유한 model_nm 개수를 구함.\n",
    "print(f\"Train-set에 있는 고유한 model_nm 개수 : { len(train_err_errtype_set) }\")\n",
    "print(f\"Test-set에 있는 고유한 model_nm 개수 : { len(test_err_errtype_set) }\")\n",
    "\n",
    "# Train/Test-set 모두에 포함되어있는 model_nm 구함.\n",
    "print('='* 80)\n",
    "common_errtype = train_err_errtype_set.intersection(test_err_errtype_set)\n",
    "print(f\"Train/Test-set에 공통으로 포함되어 있는 model_nm 개수 : {len(common_errtype)}\")\n",
    "\n",
    "# Train-set에만 있는 model_nm 구함.\n",
    "print('='* 80)\n",
    "only_train_err_errtype = train_err_errtype_set.difference(test_err_errtype_set)\n",
    "print(f\"Train-set에만 있는 model_nm 총 { len(only_train_err_errtype) }개 입니다.\")\n",
    "print(f\"Train-set에만 있는 model_nm : { sorted(only_train_err_errtype ) }\")\n",
    "\n",
    "# Test-set에만 있는 model_nm 구함.\n",
    "print('='* 80)\n",
    "only_test_err_errtype = test_err_errtype_set.difference(train_err_errtype_set)\n",
    "print(f\"Test-set에만 있는 model_nm 총 { len(only_test_err_errtype) }개 입니다.\")\n",
    "print(f\"Test-set에만 있는 model_nm : { sorted( only_test_err_errtype ) }\")"
   ]
  },
  {
   "cell_type": "code",
   "execution_count": 11,
   "metadata": {},
   "outputs": [
    {
     "name": "stdout",
     "output_type": "stream",
     "text": [
      "Train-set에 있는 고유한 fwver 개수 : 37\n",
      "Test-set에 있는 고유한 fwver 개수 : 40\n",
      "================================================================================\n",
      "Train/Test-set에 공통으로 포함되어 있는 fwver 개수 : 31\n",
      "================================================================================\n",
      "Train-set에만 있는 fwver 총 6개 입니다.\n",
      "Train-set에만 있는 fwver : ['04.16.2641', '04.16.3345', '04.22.1442', '04.33.1095', '05.15.2090', '05.15.2122']\n",
      "================================================================================\n",
      "Test-set에만 있는 fwver 총 9개 입니다.\n",
      "Test-set에만 있는 fwver : ['04.22.1170', '04.22.1448', '04.22.1478', '04.22.1608', '04.22.1772', '04.73.2569', '04.73.2577', '10.22.1770', '10.22.1780']\n"
     ]
    }
   ],
   "source": [
    "# Train/Test-set의 고유한 fwver 구함.\n",
    "train_err_errtype_set = set(train_err['fwver'])\n",
    "test_err_errtype_set  = set(test_err['fwver'])\n",
    "\n",
    "\n",
    "# Train/Test-set 고유한 errtype의 개수를 구함.\n",
    "print(f\"Train-set에 있는 고유한 fwver 개수 : { len(train_err_errtype_set) }\")\n",
    "print(f\"Test-set에 있는 고유한 fwver 개수 : { len(test_err_errtype_set) }\")\n",
    "\n",
    "# Train/Test-set 모두에 포함되어있는 errtype를 구함.\n",
    "print('='* 80)\n",
    "common_errtype = train_err_errtype_set.intersection(test_err_errtype_set)\n",
    "print(f\"Train/Test-set에 공통으로 포함되어 있는 fwver 개수 : {len(common_errtype)}\")\n",
    "\n",
    "# Train-set에만 있는 errtype를 구함.\n",
    "print('='* 80)\n",
    "only_train_err_errtype = train_err_errtype_set.difference(test_err_errtype_set)\n",
    "print(f\"Train-set에만 있는 fwver 총 { len(only_train_err_errtype) }개 입니다.\")\n",
    "print(f\"Train-set에만 있는 fwver : { sorted(only_train_err_errtype ) }\")\n",
    "\n",
    "# Test-set에만 있는 errtype를 구함.\n",
    "print('='* 80)\n",
    "only_test_err_errtype = test_err_errtype_set.difference(train_err_errtype_set)\n",
    "print(f\"Test-set에만 있는 fwver 총 { len(only_test_err_errtype) }개 입니다.\")\n",
    "print(f\"Test-set에만 있는 fwver : { sorted( only_test_err_errtype ) }\")"
   ]
  },
  {
   "cell_type": "code",
   "execution_count": 12,
   "metadata": {},
   "outputs": [
    {
     "name": "stdout",
     "output_type": "stream",
     "text": [
      "Train-set에 있는 고유한 errtype의 개수 : 41\n",
      "Test-set에 있는 고유한 errtype의 개수 : 41\n",
      "================================================================================\n",
      "Train/Test-set에 공통으로 포함되어 있는 errtype 개수 : 41\n",
      "================================================================================\n",
      "Train-set에만 있는 errtype는 총 0개 입니다.\n",
      "Train-set에만 있는 errtype는 : []\n",
      "================================================================================\n",
      "Test-set에만 있는 errtype는 총 0개 입니다.\n",
      "Test-set에만 있는 errtype는 : []\n"
     ]
    }
   ],
   "source": [
    "# Train/Test-set의 고유한 errtype 구함.\n",
    "train_err_errtype_set = set(train_err['errtype'])\n",
    "test_err_errtype_set  = set(test_err['errtype'])\n",
    "\n",
    "\n",
    "# Train/Test-set 고유한 errtype의 개수를 구함.\n",
    "print(f\"Train-set에 있는 고유한 errtype의 개수 : { len(train_err_errtype_set) }\")\n",
    "print(f\"Test-set에 있는 고유한 errtype의 개수 : { len(test_err_errtype_set) }\")\n",
    "\n",
    "# Train/Test-set 모두에 포함되어있는 errtype를 구함.\n",
    "print('='* 80)\n",
    "common_errtype = train_err_errtype_set.intersection(test_err_errtype_set)\n",
    "print(f\"Train/Test-set에 공통으로 포함되어 있는 errtype 개수 : {len(common_errtype)}\")\n",
    "\n",
    "# Train-set에만 있는 errtype를 구함.\n",
    "print('='* 80)\n",
    "only_train_err_errtype = train_err_errtype_set.difference(test_err_errtype_set)\n",
    "print(f\"Train-set에만 있는 errtype는 총 { len(only_train_err_errtype) }개 입니다.\")\n",
    "print(f\"Train-set에만 있는 errtype는 : { sorted(only_train_err_errtype ) }\")\n",
    "\n",
    "# Test-set에만 있는 errtype를 구함.\n",
    "print('='* 80)\n",
    "only_test_err_errtype = test_err_errtype_set.difference(train_err_errtype_set)\n",
    "print(f\"Test-set에만 있는 errtype는 총 { len(only_test_err_errtype) }개 입니다.\")\n",
    "print(f\"Test-set에만 있는 errtype는 : { sorted( only_test_err_errtype ) }\")"
   ]
  },
  {
   "cell_type": "code",
   "execution_count": 13,
   "metadata": {
    "scrolled": true
   },
   "outputs": [
    {
     "name": "stdout",
     "output_type": "stream",
     "text": [
      "Train-set에 있는 고유한 errcode 개수 : 2806\n",
      "Test-set에 있는 고유한 errcode 개수 : 2956\n",
      "================================================================================\n",
      "Train/Test-set에 공통으로 포함되어 있는 errcode 개수 : 1408\n",
      "================================================================================\n",
      "Train-set에만 있는 errcode 총 1398개 입니다.\n",
      "================================================================================\n",
      "Test-set에만 있는 errcode 총 1548개 입니다.\n"
     ]
    }
   ],
   "source": [
    "# Train/Test-set의 고유한 errcode 구함.\n",
    "train_err_errtype_set = set(train_err['errcode'])\n",
    "test_err_errtype_set  = set(test_err['errcode'])\n",
    "\n",
    "\n",
    "# Train/Test-set 고유한 errcode 개수를 구함.\n",
    "print(f\"Train-set에 있는 고유한 errcode 개수 : { len(train_err_errtype_set) }\")\n",
    "print(f\"Test-set에 있는 고유한 errcode 개수 : { len(test_err_errtype_set) }\")\n",
    "\n",
    "# Train/Test-set 모두에 포함되어있는 errcode 구함.\n",
    "print('='* 80)\n",
    "common_errtype = train_err_errtype_set.intersection(test_err_errtype_set)\n",
    "print(f\"Train/Test-set에 공통으로 포함되어 있는 errcode 개수 : {len(common_errtype)}\")\n",
    "\n",
    "# Train-set에만 있는 errcode 구함.\n",
    "print('='* 80)\n",
    "only_train_err_errtype = train_err_errtype_set.difference(test_err_errtype_set)\n",
    "print(f\"Train-set에만 있는 errcode 총 { len(only_train_err_errtype) }개 입니다.\")\n",
    "#print(f\"Train-set에만 있는 errcode : { sorted(only_train_err_errtype ) }\")\n",
    "\n",
    "# Test-set에만 있는 errcode 구함.\n",
    "print('='* 80)\n",
    "only_test_err_errtype = test_err_errtype_set.difference(train_err_errtype_set)\n",
    "print(f\"Test-set에만 있는 errcode 총 { len(only_test_err_errtype) }개 입니다.\")\n",
    "#print(f\"Test-set에만 있는 errcode : { sorted( only_test_err_errtype ) }\")"
   ]
  },
  {
   "cell_type": "code",
   "execution_count": 17,
   "metadata": {
    "scrolled": true
   },
   "outputs": [
    {
     "data": {
      "text/html": [
       "<div>\n",
       "<style scoped>\n",
       "    .dataframe tbody tr th:only-of-type {\n",
       "        vertical-align: middle;\n",
       "    }\n",
       "\n",
       "    .dataframe tbody tr th {\n",
       "        vertical-align: top;\n",
       "    }\n",
       "\n",
       "    .dataframe thead th {\n",
       "        text-align: right;\n",
       "    }\n",
       "</style>\n",
       "<table border=\"1\" class=\"dataframe\">\n",
       "  <thead>\n",
       "    <tr style=\"text-align: right;\">\n",
       "      <th></th>\n",
       "      <th>user_id</th>\n",
       "      <th>time</th>\n",
       "      <th>errtype</th>\n",
       "    </tr>\n",
       "  </thead>\n",
       "  <tbody>\n",
       "    <tr>\n",
       "      <th>count</th>\n",
       "      <td>1.655466e+07</td>\n",
       "      <td>1.655466e+07</td>\n",
       "      <td>1.655466e+07</td>\n",
       "    </tr>\n",
       "    <tr>\n",
       "      <th>mean</th>\n",
       "      <td>1.758495e+04</td>\n",
       "      <td>2.020112e+13</td>\n",
       "      <td>2.128030e+01</td>\n",
       "    </tr>\n",
       "    <tr>\n",
       "      <th>std</th>\n",
       "      <td>4.341885e+03</td>\n",
       "      <td>8.664375e+06</td>\n",
       "      <td>9.943175e+00</td>\n",
       "    </tr>\n",
       "    <tr>\n",
       "      <th>min</th>\n",
       "      <td>1.000000e+04</td>\n",
       "      <td>2.020103e+13</td>\n",
       "      <td>1.000000e+00</td>\n",
       "    </tr>\n",
       "    <tr>\n",
       "      <th>25%</th>\n",
       "      <td>1.392500e+04</td>\n",
       "      <td>2.020111e+13</td>\n",
       "      <td>1.500000e+01</td>\n",
       "    </tr>\n",
       "    <tr>\n",
       "      <th>50%</th>\n",
       "      <td>1.748500e+04</td>\n",
       "      <td>2.020112e+13</td>\n",
       "      <td>2.300000e+01</td>\n",
       "    </tr>\n",
       "    <tr>\n",
       "      <th>75%</th>\n",
       "      <td>2.122700e+04</td>\n",
       "      <td>2.020112e+13</td>\n",
       "      <td>3.100000e+01</td>\n",
       "    </tr>\n",
       "    <tr>\n",
       "      <th>max</th>\n",
       "      <td>2.499900e+04</td>\n",
       "      <td>2.020120e+13</td>\n",
       "      <td>4.200000e+01</td>\n",
       "    </tr>\n",
       "  </tbody>\n",
       "</table>\n",
       "</div>"
      ],
      "text/plain": [
       "            user_id          time       errtype\n",
       "count  1.655466e+07  1.655466e+07  1.655466e+07\n",
       "mean   1.758495e+04  2.020112e+13  2.128030e+01\n",
       "std    4.341885e+03  8.664375e+06  9.943175e+00\n",
       "min    1.000000e+04  2.020103e+13  1.000000e+00\n",
       "25%    1.392500e+04  2.020111e+13  1.500000e+01\n",
       "50%    1.748500e+04  2.020112e+13  2.300000e+01\n",
       "75%    2.122700e+04  2.020112e+13  3.100000e+01\n",
       "max    2.499900e+04  2.020120e+13  4.200000e+01"
      ]
     },
     "metadata": {},
     "output_type": "display_data"
    },
    {
     "data": {
      "text/html": [
       "<div>\n",
       "<style scoped>\n",
       "    .dataframe tbody tr th:only-of-type {\n",
       "        vertical-align: middle;\n",
       "    }\n",
       "\n",
       "    .dataframe tbody tr th {\n",
       "        vertical-align: top;\n",
       "    }\n",
       "\n",
       "    .dataframe thead th {\n",
       "        text-align: right;\n",
       "    }\n",
       "</style>\n",
       "<table border=\"1\" class=\"dataframe\">\n",
       "  <thead>\n",
       "    <tr style=\"text-align: right;\">\n",
       "      <th></th>\n",
       "      <th>time</th>\n",
       "      <th>user_id</th>\n",
       "      <th>quality_0</th>\n",
       "      <th>quality_1</th>\n",
       "      <th>quality_2</th>\n",
       "      <th>quality_3</th>\n",
       "      <th>quality_4</th>\n",
       "      <th>quality_6</th>\n",
       "      <th>quality_11</th>\n",
       "      <th>quality_12</th>\n",
       "    </tr>\n",
       "  </thead>\n",
       "  <tbody>\n",
       "    <tr>\n",
       "      <th>count</th>\n",
       "      <td>8.286240e+05</td>\n",
       "      <td>828624.000000</td>\n",
       "      <td>684192.000000</td>\n",
       "      <td>828624.000000</td>\n",
       "      <td>788511.000000</td>\n",
       "      <td>828624.0</td>\n",
       "      <td>828624.0</td>\n",
       "      <td>828624.000000</td>\n",
       "      <td>828624.000000</td>\n",
       "      <td>828624.000000</td>\n",
       "    </tr>\n",
       "    <tr>\n",
       "      <th>mean</th>\n",
       "      <td>2.020112e+13</td>\n",
       "      <td>17574.678315</td>\n",
       "      <td>4.148701</td>\n",
       "      <td>-0.171782</td>\n",
       "      <td>4.751094</td>\n",
       "      <td>0.0</td>\n",
       "      <td>0.0</td>\n",
       "      <td>2.043391</td>\n",
       "      <td>-0.181638</td>\n",
       "      <td>0.045878</td>\n",
       "    </tr>\n",
       "    <tr>\n",
       "      <th>std</th>\n",
       "      <td>8.863638e+06</td>\n",
       "      <td>4374.113554</td>\n",
       "      <td>479.315029</td>\n",
       "      <td>0.692386</td>\n",
       "      <td>586.252469</td>\n",
       "      <td>0.0</td>\n",
       "      <td>0.0</td>\n",
       "      <td>32.695380</td>\n",
       "      <td>0.397767</td>\n",
       "      <td>0.302452</td>\n",
       "    </tr>\n",
       "    <tr>\n",
       "      <th>min</th>\n",
       "      <td>2.020103e+13</td>\n",
       "      <td>10000.000000</td>\n",
       "      <td>-1.000000</td>\n",
       "      <td>-1.000000</td>\n",
       "      <td>-1.000000</td>\n",
       "      <td>0.0</td>\n",
       "      <td>0.0</td>\n",
       "      <td>-1.000000</td>\n",
       "      <td>-1.000000</td>\n",
       "      <td>0.000000</td>\n",
       "    </tr>\n",
       "    <tr>\n",
       "      <th>25%</th>\n",
       "      <td>2.020111e+13</td>\n",
       "      <td>13685.000000</td>\n",
       "      <td>0.000000</td>\n",
       "      <td>0.000000</td>\n",
       "      <td>0.000000</td>\n",
       "      <td>0.0</td>\n",
       "      <td>0.0</td>\n",
       "      <td>0.000000</td>\n",
       "      <td>0.000000</td>\n",
       "      <td>0.000000</td>\n",
       "    </tr>\n",
       "    <tr>\n",
       "      <th>50%</th>\n",
       "      <td>2.020112e+13</td>\n",
       "      <td>17597.000000</td>\n",
       "      <td>0.000000</td>\n",
       "      <td>0.000000</td>\n",
       "      <td>0.000000</td>\n",
       "      <td>0.0</td>\n",
       "      <td>0.0</td>\n",
       "      <td>0.000000</td>\n",
       "      <td>0.000000</td>\n",
       "      <td>0.000000</td>\n",
       "    </tr>\n",
       "    <tr>\n",
       "      <th>75%</th>\n",
       "      <td>2.020112e+13</td>\n",
       "      <td>21423.000000</td>\n",
       "      <td>0.000000</td>\n",
       "      <td>0.000000</td>\n",
       "      <td>0.000000</td>\n",
       "      <td>0.0</td>\n",
       "      <td>0.0</td>\n",
       "      <td>0.000000</td>\n",
       "      <td>0.000000</td>\n",
       "      <td>0.000000</td>\n",
       "    </tr>\n",
       "    <tr>\n",
       "      <th>max</th>\n",
       "      <td>2.020113e+13</td>\n",
       "      <td>24997.000000</td>\n",
       "      <td>157667.000000</td>\n",
       "      <td>171.000000</td>\n",
       "      <td>191859.000000</td>\n",
       "      <td>0.0</td>\n",
       "      <td>0.0</td>\n",
       "      <td>600.000000</td>\n",
       "      <td>14.000000</td>\n",
       "      <td>14.000000</td>\n",
       "    </tr>\n",
       "  </tbody>\n",
       "</table>\n",
       "</div>"
      ],
      "text/plain": [
       "               time        user_id      quality_0      quality_1  \\\n",
       "count  8.286240e+05  828624.000000  684192.000000  828624.000000   \n",
       "mean   2.020112e+13   17574.678315       4.148701      -0.171782   \n",
       "std    8.863638e+06    4374.113554     479.315029       0.692386   \n",
       "min    2.020103e+13   10000.000000      -1.000000      -1.000000   \n",
       "25%    2.020111e+13   13685.000000       0.000000       0.000000   \n",
       "50%    2.020112e+13   17597.000000       0.000000       0.000000   \n",
       "75%    2.020112e+13   21423.000000       0.000000       0.000000   \n",
       "max    2.020113e+13   24997.000000  157667.000000     171.000000   \n",
       "\n",
       "           quality_2  quality_3  quality_4      quality_6     quality_11  \\\n",
       "count  788511.000000   828624.0   828624.0  828624.000000  828624.000000   \n",
       "mean        4.751094        0.0        0.0       2.043391      -0.181638   \n",
       "std       586.252469        0.0        0.0      32.695380       0.397767   \n",
       "min        -1.000000        0.0        0.0      -1.000000      -1.000000   \n",
       "25%         0.000000        0.0        0.0       0.000000       0.000000   \n",
       "50%         0.000000        0.0        0.0       0.000000       0.000000   \n",
       "75%         0.000000        0.0        0.0       0.000000       0.000000   \n",
       "max    191859.000000        0.0        0.0     600.000000      14.000000   \n",
       "\n",
       "          quality_12  \n",
       "count  828624.000000  \n",
       "mean        0.045878  \n",
       "std         0.302452  \n",
       "min         0.000000  \n",
       "25%         0.000000  \n",
       "50%         0.000000  \n",
       "75%         0.000000  \n",
       "max        14.000000  "
      ]
     },
     "metadata": {},
     "output_type": "display_data"
    }
   ],
   "source": [
    "#간단히 err/quality 데이터 살피면\n",
    "display(train_err.describe())\n",
    "display(train_quality.describe())"
   ]
  },
  {
   "cell_type": "markdown",
   "metadata": {},
   "source": [
    "\n",
    "# 시각화\n"
   ]
  },
  {
   "cell_type": "markdown",
   "metadata": {},
   "source": [
    "# errdata"
   ]
  },
  {
   "cell_type": "code",
   "execution_count": 26,
   "metadata": {},
   "outputs": [
    {
     "name": "stdout",
     "output_type": "stream",
     "text": [
      "<class 'pandas.core.frame.DataFrame'>\n",
      "RangeIndex: 16554663 entries, 0 to 16554662\n",
      "Data columns (total 6 columns):\n",
      " #   Column    Dtype \n",
      "---  ------    ----- \n",
      " 0   user_id   int64 \n",
      " 1   time      int64 \n",
      " 2   model_nm  object\n",
      " 3   fwver     object\n",
      " 4   errtype   int64 \n",
      " 5   errcode   object\n",
      "dtypes: int64(3), object(3)\n",
      "memory usage: 757.8+ MB\n"
     ]
    }
   ],
   "source": [
    "train_err.info()"
   ]
  },
  {
   "cell_type": "markdown",
   "metadata": {},
   "source": [
    "## errdata - userid"
   ]
  },
  {
   "cell_type": "code",
   "execution_count": 19,
   "metadata": {},
   "outputs": [
    {
     "data": {
      "text/plain": [
       "<AxesSubplot:xlabel='user_id'>"
      ]
     },
     "execution_count": 19,
     "metadata": {},
     "output_type": "execute_result"
    },
    {
     "data": {
      "image/png": "[encoded data removed]",
      "text/plain": [
       "<Figure size 720x288 with 1 Axes>"
      ]
     },
     "metadata": {
      "needs_background": "light"
     },
     "output_type": "display_data"
    }
   ],
   "source": [
    "plt.figure(figsize=(10,4))\n",
    "plt.xlim(train_err.user_id.min(), train_err.user_id.max()*1.1)\n",
    "sns.boxplot(x=train_err.user_id)"
   ]
  },
  {
   "cell_type": "markdown",
   "metadata": {},
   "source": [
    "## errdata - time"
   ]
  },
  {
   "cell_type": "code",
   "execution_count": 20,
   "metadata": {},
   "outputs": [
    {
     "data": {
      "text/plain": [
       "Text(0.5, 1.0, 'type Values in the Training Set - train ()')"
      ]
     },
     "execution_count": 20,
     "metadata": {},
     "output_type": "execute_result"
    },
    {
     "data": {
      "image/png": "[encoded data removed]",
      "text/plain": [
       "<Figure size 1296x648 with 1 Axes>"
      ]
     },
     "metadata": {
      "needs_background": "light"
     },
     "output_type": "display_data"
    }
   ],
   "source": [
    "# time\n",
    "fig = plt.figure(figsize=(18,9))\n",
    "plt.subplots_adjust(hspace=.5)\n",
    "\n",
    "plt.subplot2grid((3,3), (0,0), colspan = 3)\n",
    "train_err['time'].value_counts()[:100].plot(kind='bar', alpha=0.7)\n",
    "plt.title('type Values in the Training Set - train ()')"
   ]
  },
  {
   "cell_type": "markdown",
   "metadata": {},
   "source": [
    "## errdata - modelnm"
   ]
  },
  {
   "cell_type": "code",
   "execution_count": 21,
   "metadata": {},
   "outputs": [
    {
     "data": {
      "text/plain": [
       "Text(0.5, 1.0, 'type Values in the Training Set - train ()')"
      ]
     },
     "execution_count": 21,
     "metadata": {},
     "output_type": "execute_result"
    },
    {
     "data": {
      "image/png": "[encoded data removed]",
      "text/plain": [
       "<Figure size 1296x648 with 1 Axes>"
      ]
     },
     "metadata": {
      "needs_background": "light"
     },
     "output_type": "display_data"
    }
   ],
   "source": [
    "# model_nm\n",
    "fig = plt.figure(figsize=(18,9))\n",
    "plt.subplots_adjust(hspace=.5)\n",
    "\n",
    "plt.subplot2grid((3,3), (0,0), colspan = 3)\n",
    "train_err['model_nm'].value_counts()[:100].plot(kind='bar', alpha=0.7)\n",
    "plt.title('type Values in the Training Set - train ()')"
   ]
  },
  {
   "cell_type": "markdown",
   "metadata": {},
   "source": [
    "## errdata - fwver"
   ]
  },
  {
   "cell_type": "code",
   "execution_count": 22,
   "metadata": {},
   "outputs": [
    {
     "data": {
      "text/plain": [
       "Text(0.5, 1.0, 'type Values in the Training Set - train ()')"
      ]
     },
     "execution_count": 22,
     "metadata": {},
     "output_type": "execute_result"
    },
    {
     "data": {
      "image/png": "[encoded data removed]",
      "text/plain": [
       "<Figure size 1296x648 with 1 Axes>"
      ]
     },
     "metadata": {
      "needs_background": "light"
     },
     "output_type": "display_data"
    }
   ],
   "source": [
    "# fwver\n",
    "fig = plt.figure(figsize=(18,9))\n",
    "plt.subplots_adjust(hspace=.5)\n",
    "\n",
    "plt.subplot2grid((3,3), (0,0), colspan = 3)\n",
    "train_err['fwver'].value_counts()[:100].plot(kind='bar', alpha=0.7)\n",
    "plt.title('type Values in the Training Set - train ()')"
   ]
  },
  {
   "cell_type": "markdown",
   "metadata": {},
   "source": [
    "## errdata - errtype"
   ]
  },
  {
   "cell_type": "code",
   "execution_count": 23,
   "metadata": {},
   "outputs": [
    {
     "data": {
      "text/plain": [
       "Text(0.5, 1.0, 'type Values in the Training Set - train ()')"
      ]
     },
     "execution_count": 23,
     "metadata": {},
     "output_type": "execute_result"
    },
    {
     "data": {
      "image/png": "[encoded data removed]",
      "text/plain": [
       "<Figure size 1296x648 with 1 Axes>"
      ]
     },
     "metadata": {
      "needs_background": "light"
     },
     "output_type": "display_data"
    }
   ],
   "source": [
    "# errtype\n",
    "fig = plt.figure(figsize=(18,9))\n",
    "plt.subplots_adjust(hspace=.5)\n",
    "\n",
    "plt.subplot2grid((3,3), (0,0), colspan = 3)\n",
    "train_err['errtype'].value_counts()[:100].plot(kind='bar', alpha=0.7)\n",
    "plt.title('type Values in the Training Set - train ()')"
   ]
  },
  {
   "cell_type": "markdown",
   "metadata": {},
   "source": [
    "## errdata - errcode"
   ]
  },
  {
   "cell_type": "code",
   "execution_count": 24,
   "metadata": {},
   "outputs": [
    {
     "data": {
      "text/plain": [
       "Text(0.5, 1.0, 'type Values in the Training Set - train ()')"
      ]
     },
     "execution_count": 24,
     "metadata": {},
     "output_type": "execute_result"
    },
    {
     "data": {
      "image/png": "[encoded data removed]",
      "text/plain": [
       "<Figure size 1296x648 with 1 Axes>"
      ]
     },
     "metadata": {
      "needs_background": "light"
     },
     "output_type": "display_data"
    }
   ],
   "source": [
    "# errcode\n",
    "fig = plt.figure(figsize=(18,9))\n",
    "plt.subplots_adjust(hspace=.5)\n",
    "\n",
    "plt.subplot2grid((3,3), (0,0), colspan = 3)\n",
    "train_err['errcode'].value_counts()[:100].plot(kind='bar', alpha=0.7)\n",
    "plt.title('type Values in the Training Set - train ()')"
   ]
  },
  {
   "cell_type": "markdown",
   "metadata": {},
   "source": [
    "# qualitydata"
   ]
  },
  {
   "cell_type": "code",
   "execution_count": 27,
   "metadata": {},
   "outputs": [
    {
     "name": "stdout",
     "output_type": "stream",
     "text": [
      "<class 'pandas.core.frame.DataFrame'>\n",
      "RangeIndex: 828624 entries, 0 to 828623\n",
      "Data columns (total 16 columns):\n",
      " #   Column      Non-Null Count   Dtype  \n",
      "---  ------      --------------   -----  \n",
      " 0   time        828624 non-null  int64  \n",
      " 1   user_id     828624 non-null  int64  \n",
      " 2   fwver       788544 non-null  object \n",
      " 3   quality_0   684192 non-null  float64\n",
      " 4   quality_1   828624 non-null  int64  \n",
      " 5   quality_2   788511 non-null  float64\n",
      " 6   quality_3   828624 non-null  int64  \n",
      " 7   quality_4   828624 non-null  int64  \n",
      " 8   quality_5   828604 non-null  object \n",
      " 9   quality_6   828624 non-null  int64  \n",
      " 10  quality_7   828624 non-null  object \n",
      " 11  quality_8   828624 non-null  object \n",
      " 12  quality_9   828624 non-null  object \n",
      " 13  quality_10  828624 non-null  object \n",
      " 14  quality_11  828624 non-null  int64  \n",
      " 15  quality_12  828624 non-null  int64  \n",
      "dtypes: float64(2), int64(8), object(6)\n",
      "memory usage: 101.2+ MB\n"
     ]
    }
   ],
   "source": [
    "train_quality.info()"
   ]
  },
  {
   "cell_type": "markdown",
   "metadata": {},
   "source": [
    "## qualitydata-time"
   ]
  },
  {
   "cell_type": "code",
   "execution_count": 28,
   "metadata": {},
   "outputs": [
    {
     "data": {
      "text/plain": [
       "Text(0.5, 1.0, 'type Values in the Training Set - train ()')"
      ]
     },
     "execution_count": 28,
     "metadata": {},
     "output_type": "execute_result"
    },
    {
     "data": {
      "image/png": "[encoded data removed]",
      "text/plain": [
       "<Figure size 1296x648 with 1 Axes>"
      ]
     },
     "metadata": {
      "needs_background": "light"
     },
     "output_type": "display_data"
    }
   ],
   "source": [
    "# time\n",
    "fig = plt.figure(figsize=(18,9))\n",
    "plt.subplots_adjust(hspace=.5)\n",
    "\n",
    "plt.subplot2grid((3,3), (0,0), colspan = 3)\n",
    "train_quality['time'].value_counts()[:100].plot(kind='bar', alpha=0.7)\n",
    "plt.title('type Values in the Training Set - train ()')"
   ]
  },
  {
   "cell_type": "markdown",
   "metadata": {},
   "source": [
    "## qualitydata-user_id"
   ]
  },
  {
   "cell_type": "code",
   "execution_count": 29,
   "metadata": {},
   "outputs": [
    {
     "data": {
      "text/plain": [
       "Text(0.5, 1.0, 'type Values in the Training Set - train ()')"
      ]
     },
     "execution_count": 29,
     "metadata": {},
     "output_type": "execute_result"
    },
    {
     "data": {
      "image/png": "[encoded data removed]",
      "text/plain": [
       "<Figure size 1296x648 with 1 Axes>"
      ]
     },
     "metadata": {
      "needs_background": "light"
     },
     "output_type": "display_data"
    }
   ],
   "source": [
    "# user_id\n",
    "fig = plt.figure(figsize=(18,9))\n",
    "plt.subplots_adjust(hspace=.5)\n",
    "\n",
    "plt.subplot2grid((3,3), (0,0), colspan = 3)\n",
    "train_quality['user_id'].value_counts()[:100].plot(kind='bar', alpha=0.7)\n",
    "plt.title('type Values in the Training Set - train ()')"
   ]
  },
  {
   "cell_type": "markdown",
   "metadata": {},
   "source": [
    "## qualitydata-fwver"
   ]
  },
  {
   "cell_type": "code",
   "execution_count": 30,
   "metadata": {},
   "outputs": [
    {
     "data": {
      "text/plain": [
       "Text(0.5, 1.0, 'type Values in the Training Set - train ()')"
      ]
     },
     "execution_count": 30,
     "metadata": {},
     "output_type": "execute_result"
    },
    {
     "data": {
      "image/png": "[encoded data removed]",
      "text/plain": [
       "<Figure size 1296x648 with 1 Axes>"
      ]
     },
     "metadata": {
      "needs_background": "light"
     },
     "output_type": "display_data"
    }
   ],
   "source": [
    "# fwver\n",
    "fig = plt.figure(figsize=(18,9))\n",
    "plt.subplots_adjust(hspace=.5)\n",
    "\n",
    "plt.subplot2grid((3,3), (0,0), colspan = 3)\n",
    "train_quality['fwver'].value_counts()[:100].plot(kind='bar', alpha=0.7)\n",
    "plt.title('type Values in the Training Set - train ()')"
   ]
  },
  {
   "cell_type": "markdown",
   "metadata": {},
   "source": [
    "## qualitydata-quality_0"
   ]
  },
  {
   "cell_type": "code",
   "execution_count": 31,
   "metadata": {},
   "outputs": [
    {
     "data": {
      "text/plain": [
       "Text(0.5, 1.0, 'type Values in the Training Set - train ()')"
      ]
     },
     "execution_count": 31,
     "metadata": {},
     "output_type": "execute_result"
    },
    {
     "data": {
      "image/png": "[encoded data removed]",
      "text/plain": [
       "<Figure size 1296x648 with 1 Axes>"
      ]
     },
     "metadata": {
      "needs_background": "light"
     },
     "output_type": "display_data"
    }
   ],
   "source": [
    "# qualiry_0\n",
    "fig = plt.figure(figsize=(18,9))\n",
    "plt.subplots_adjust(hspace=.5)\n",
    "\n",
    "plt.subplot2grid((3,3), (0,0), colspan = 3)\n",
    "train_quality['quality_0'].value_counts()[:50].plot(kind='bar', alpha=0.7)\n",
    "plt.title('type Values in the Training Set - train ()')"
   ]
  },
  {
   "cell_type": "markdown",
   "metadata": {},
   "source": [
    "## qualitydata-quality_1"
   ]
  },
  {
   "cell_type": "code",
   "execution_count": 32,
   "metadata": {},
   "outputs": [
    {
     "data": {
      "text/plain": [
       "Text(0.5, 1.0, 'type Values in the Training Set - train ()')"
      ]
     },
     "execution_count": 32,
     "metadata": {},
     "output_type": "execute_result"
    },
    {
     "data": {
      "image/png": "[encoded data removed]",
      "text/plain": [
       "<Figure size 1296x648 with 1 Axes>"
      ]
     },
     "metadata": {
      "needs_background": "light"
     },
     "output_type": "display_data"
    }
   ],
   "source": [
    "\n",
    "# quality_1\n",
    "fig = plt.figure(figsize=(18,9))\n",
    "plt.subplots_adjust(hspace=.5)\n",
    "\n",
    "plt.subplot2grid((3,3), (0,0), colspan = 3)\n",
    "train_quality['quality_1'].value_counts()[:50].plot(kind='bar', alpha=0.7)\n",
    "plt.title('type Values in the Training Set - train ()')"
   ]
  },
  {
   "cell_type": "markdown",
   "metadata": {},
   "source": [
    "## qualitydata-quality_2"
   ]
  },
  {
   "cell_type": "code",
   "execution_count": 33,
   "metadata": {
    "scrolled": true
   },
   "outputs": [
    {
     "data": {
      "text/plain": [
       "Text(0.5, 1.0, 'type Values in the Training Set - train ()')"
      ]
     },
     "execution_count": 33,
     "metadata": {},
     "output_type": "execute_result"
    },
    {
     "data": {
      "image/png": "[encoded data removed]",
      "text/plain": [
       "<Figure size 1296x648 with 1 Axes>"
      ]
     },
     "metadata": {
      "needs_background": "light"
     },
     "output_type": "display_data"
    }
   ],
   "source": [
    "# quality_2\n",
    "fig = plt.figure(figsize=(18,9))\n",
    "plt.subplots_adjust(hspace=.5)\n",
    "\n",
    "plt.subplot2grid((3,3), (0,0), colspan = 3)\n",
    "train_quality['quality_2'].value_counts()[:50].plot(kind='bar', alpha=0.7)\n",
    "plt.title('type Values in the Training Set - train ()')"
   ]
  },
  {
   "cell_type": "markdown",
   "metadata": {},
   "source": [
    "# ----------------------------------------------------------------------------------------\n",
    "#                                                   FE\n",
    "# ----------------------------------------------------------------------------------------"
   ]
  },
  {
   "cell_type": "markdown",
   "metadata": {},
   "source": [
    "# 결측치"
   ]
  },
  {
   "cell_type": "code",
   "execution_count": 40,
   "metadata": {},
   "outputs": [
    {
     "name": "stdout",
     "output_type": "stream",
     "text": [
      "Train-set\n"
     ]
    },
    {
     "data": {
      "text/plain": [
       "user_id     0\n",
       "time        0\n",
       "model_nm    0\n",
       "fwver       0\n",
       "errtype     0\n",
       "errcode     1\n",
       "dtype: int64"
      ]
     },
     "metadata": {},
     "output_type": "display_data"
    },
    {
     "name": "stdout",
     "output_type": "stream",
     "text": [
      "================================================================================\n",
      "Test-set\n"
     ]
    },
    {
     "data": {
      "text/plain": [
       "user_id     0\n",
       "time        0\n",
       "model_nm    0\n",
       "fwver       0\n",
       "errtype     0\n",
       "errcode     4\n",
       "dtype: int64"
      ]
     },
     "metadata": {},
     "output_type": "display_data"
    }
   ],
   "source": [
    "# Missing Value 확인\n",
    "print(\"Train-set\")\n",
    "display( train_err.isnull().sum() )\n",
    "\n",
    "print('=' * 80)\n",
    "\n",
    "print(\"Test-set\")\n",
    "display( test_err.isnull().sum() )"
   ]
  },
  {
   "cell_type": "code",
   "execution_count": 41,
   "metadata": {},
   "outputs": [
    {
     "name": "stdout",
     "output_type": "stream",
     "text": [
      "Train-set\n"
     ]
    },
    {
     "data": {
      "text/plain": [
       "time               0\n",
       "user_id            0\n",
       "fwver          40080\n",
       "quality_0     144432\n",
       "quality_1          0\n",
       "quality_2      40113\n",
       "quality_3          0\n",
       "quality_4          0\n",
       "quality_5         20\n",
       "quality_6          0\n",
       "quality_7          0\n",
       "quality_8          0\n",
       "quality_9          0\n",
       "quality_10         0\n",
       "quality_11         0\n",
       "quality_12         0\n",
       "dtype: int64"
      ]
     },
     "metadata": {},
     "output_type": "display_data"
    },
    {
     "name": "stdout",
     "output_type": "stream",
     "text": [
      "================================================================================\n",
      "Test-set\n"
     ]
    },
    {
     "data": {
      "text/plain": [
       "time               0\n",
       "user_id            0\n",
       "fwver          22764\n",
       "quality_0     106584\n",
       "quality_1         11\n",
       "quality_2      21115\n",
       "quality_3          0\n",
       "quality_4          0\n",
       "quality_5         44\n",
       "quality_6          0\n",
       "quality_7          0\n",
       "quality_8          0\n",
       "quality_9          0\n",
       "quality_10         0\n",
       "quality_11         0\n",
       "quality_12         0\n",
       "dtype: int64"
      ]
     },
     "metadata": {},
     "output_type": "display_data"
    }
   ],
   "source": [
    "# Missing Value 확인\n",
    "print(\"Train-set\")\n",
    "display( train_quality.isnull().sum() )\n",
    "\n",
    "print('=' * 80)\n",
    "\n",
    "print(\"Test-set\")\n",
    "display( test_quality.isnull().sum() )"
   ]
  },
  {
   "cell_type": "markdown",
   "metadata": {},
   "source": [
    "<br>\n",
    "<span style=\"color:red; font-size:15pt\"> 확인 결과 err data는 결측치 양이 너무 작아서 FE는 train_quality data 만 가지고 하겠습니당 </span>"
   ]
  },
  {
   "cell_type": "code",
   "execution_count": 15,
   "metadata": {
    "scrolled": true
   },
   "outputs": [
    {
     "name": "stdout",
     "output_type": "stream",
     "text": [
      "<class 'pandas.core.frame.DataFrame'>\n",
      "RangeIndex: 828624 entries, 0 to 828623\n",
      "Data columns (total 16 columns):\n",
      " #   Column      Non-Null Count   Dtype  \n",
      "---  ------      --------------   -----  \n",
      " 0   time        828624 non-null  int64  \n",
      " 1   user_id     828624 non-null  int64  \n",
      " 2   fwver       788544 non-null  object \n",
      " 3   quality_0   684192 non-null  float64\n",
      " 4   quality_1   828624 non-null  int64  \n",
      " 5   quality_2   788511 non-null  float64\n",
      " 6   quality_3   828624 non-null  int64  \n",
      " 7   quality_4   828624 non-null  int64  \n",
      " 8   quality_5   828604 non-null  object \n",
      " 9   quality_6   828624 non-null  int64  \n",
      " 10  quality_7   828624 non-null  object \n",
      " 11  quality_8   828624 non-null  object \n",
      " 12  quality_9   828624 non-null  object \n",
      " 13  quality_10  828624 non-null  object \n",
      " 14  quality_11  828624 non-null  int64  \n",
      " 15  quality_12  828624 non-null  int64  \n",
      "dtypes: float64(2), int64(8), object(6)\n",
      "memory usage: 101.2+ MB\n"
     ]
    }
   ],
   "source": [
    "train_quality.info()"
   ]
  },
  {
   "cell_type": "code",
   "execution_count": 16,
   "metadata": {
    "scrolled": true
   },
   "outputs": [
    {
     "data": {
      "text/plain": [
       "(828624, 16)"
      ]
     },
     "execution_count": 16,
     "metadata": {},
     "output_type": "execute_result"
    }
   ],
   "source": [
    "train_quality.shape"
   ]
  },
  {
   "cell_type": "code",
   "execution_count": 17,
   "metadata": {},
   "outputs": [],
   "source": [
    "temp = train_quality.copy()"
   ]
  },
  {
   "cell_type": "code",
   "execution_count": 18,
   "metadata": {},
   "outputs": [
    {
     "data": {
      "text/plain": [
       "0    05.15.2138\n",
       "1    05.15.2138\n",
       "2    05.15.2138\n",
       "3    05.15.2138\n",
       "4    05.15.2138\n",
       "Name: fwver, dtype: object"
      ]
     },
     "execution_count": 18,
     "metadata": {},
     "output_type": "execute_result"
    }
   ],
   "source": [
    "temp['fwver'].head()"
   ]
  },
  {
   "cell_type": "code",
   "execution_count": 19,
   "metadata": {},
   "outputs": [
    {
     "data": {
      "text/plain": [
       "0    0\n",
       "1    0\n",
       "2    0\n",
       "3    0\n",
       "4    0\n",
       "Name: quality_5, dtype: object"
      ]
     },
     "execution_count": 19,
     "metadata": {},
     "output_type": "execute_result"
    }
   ],
   "source": [
    "temp['quality_5'].head()"
   ]
  },
  {
   "cell_type": "code",
   "execution_count": 20,
   "metadata": {},
   "outputs": [
    {
     "data": {
      "text/plain": [
       "0    0\n",
       "1    0\n",
       "2    0\n",
       "3    0\n",
       "4    0\n",
       "Name: quality_7, dtype: object"
      ]
     },
     "execution_count": 20,
     "metadata": {},
     "output_type": "execute_result"
    }
   ],
   "source": [
    "temp['quality_7'].head()"
   ]
  },
  {
   "cell_type": "code",
   "execution_count": 21,
   "metadata": {},
   "outputs": [
    {
     "data": {
      "text/plain": [
       "0    0\n",
       "1    0\n",
       "2    0\n",
       "3    0\n",
       "4    0\n",
       "Name: quality_8, dtype: object"
      ]
     },
     "execution_count": 21,
     "metadata": {},
     "output_type": "execute_result"
    }
   ],
   "source": [
    "temp['quality_8'].head()"
   ]
  },
  {
   "cell_type": "code",
   "execution_count": 56,
   "metadata": {},
   "outputs": [
    {
     "data": {
      "text/plain": [
       "0    0\n",
       "1    0\n",
       "2    0\n",
       "3    0\n",
       "4    0\n",
       "Name: quality_9, dtype: object"
      ]
     },
     "execution_count": 56,
     "metadata": {},
     "output_type": "execute_result"
    }
   ],
   "source": [
    "temp['quality_9'].head()"
   ]
  },
  {
   "cell_type": "code",
   "execution_count": 57,
   "metadata": {
    "scrolled": true
   },
   "outputs": [
    {
     "data": {
      "text/plain": [
       "0    4\n",
       "1    4\n",
       "2    4\n",
       "3    4\n",
       "4    4\n",
       "Name: quality_10, dtype: object"
      ]
     },
     "execution_count": 57,
     "metadata": {},
     "output_type": "execute_result"
    }
   ],
   "source": [
    "temp['quality_10'].head()"
   ]
  },
  {
   "cell_type": "markdown",
   "metadata": {},
   "source": [
    "<br>\n",
    "<span style=\"color:red; font-size:15pt;\"> quality의 dtype이 모두 같아야 한다고 생각. 그러나 quality 5,7,8,9,10 dtype: object. 왜 object값이 있을까? -> 일단 to_numeric 함수 사용 -> value error 발생 확인 </span>"
   ]
  },
  {
   "cell_type": "code",
   "execution_count": 90,
   "metadata": {
    "scrolled": false
   },
   "outputs": [
    {
     "ename": "ValueError",
     "evalue": "Unable to parse string \"2,385\" at position 0",
     "output_type": "error",
     "traceback": [
      "\u001b[1;31m---------------------------------------------------------------------------\u001b[0m",
      "\u001b[1;31mValueError\u001b[0m                                Traceback (most recent call last)",
      "\u001b[1;32mpandas\\_libs\\lib.pyx\u001b[0m in \u001b[0;36mpandas._libs.lib.maybe_convert_numeric\u001b[1;34m()\u001b[0m\n",
      "\u001b[1;31mValueError\u001b[0m: Unable to parse string \"2,385\"",
      "\nDuring handling of the above exception, another exception occurred:\n",
      "\u001b[1;31mValueError\u001b[0m                                Traceback (most recent call last)",
      "\u001b[1;32m<ipython-input-90-a793f3d6b766>\u001b[0m in \u001b[0;36m<module>\u001b[1;34m\u001b[0m\n\u001b[1;32m----> 1\u001b[1;33m \u001b[0mtemp\u001b[0m\u001b[1;33m[\u001b[0m\u001b[1;34m'quality_5'\u001b[0m\u001b[1;33m]\u001b[0m \u001b[1;33m=\u001b[0m \u001b[0mtemp\u001b[0m\u001b[1;33m[\u001b[0m\u001b[1;34m'quality_5'\u001b[0m\u001b[1;33m]\u001b[0m\u001b[1;33m.\u001b[0m\u001b[0mapply\u001b[0m\u001b[1;33m(\u001b[0m\u001b[0mpd\u001b[0m\u001b[1;33m.\u001b[0m\u001b[0mto_numeric\u001b[0m\u001b[1;33m)\u001b[0m\u001b[1;33m\u001b[0m\u001b[1;33m\u001b[0m\u001b[0m\n\u001b[0m",
      "\u001b[1;32mC:\\ProgramData\\Anaconda3\\lib\\site-packages\\pandas\\core\\series.py\u001b[0m in \u001b[0;36mapply\u001b[1;34m(self, func, convert_dtype, args, **kwds)\u001b[0m\n\u001b[0;32m   4198\u001b[0m             \u001b[1;32melse\u001b[0m\u001b[1;33m:\u001b[0m\u001b[1;33m\u001b[0m\u001b[1;33m\u001b[0m\u001b[0m\n\u001b[0;32m   4199\u001b[0m                 \u001b[0mvalues\u001b[0m \u001b[1;33m=\u001b[0m \u001b[0mself\u001b[0m\u001b[1;33m.\u001b[0m\u001b[0mastype\u001b[0m\u001b[1;33m(\u001b[0m\u001b[0mobject\u001b[0m\u001b[1;33m)\u001b[0m\u001b[1;33m.\u001b[0m\u001b[0m_values\u001b[0m\u001b[1;33m\u001b[0m\u001b[1;33m\u001b[0m\u001b[0m\n\u001b[1;32m-> 4200\u001b[1;33m                 \u001b[0mmapped\u001b[0m \u001b[1;33m=\u001b[0m \u001b[0mlib\u001b[0m\u001b[1;33m.\u001b[0m\u001b[0mmap_infer\u001b[0m\u001b[1;33m(\u001b[0m\u001b[0mvalues\u001b[0m\u001b[1;33m,\u001b[0m \u001b[0mf\u001b[0m\u001b[1;33m,\u001b[0m \u001b[0mconvert\u001b[0m\u001b[1;33m=\u001b[0m\u001b[0mconvert_dtype\u001b[0m\u001b[1;33m)\u001b[0m\u001b[1;33m\u001b[0m\u001b[1;33m\u001b[0m\u001b[0m\n\u001b[0m\u001b[0;32m   4201\u001b[0m \u001b[1;33m\u001b[0m\u001b[0m\n\u001b[0;32m   4202\u001b[0m         \u001b[1;32mif\u001b[0m \u001b[0mlen\u001b[0m\u001b[1;33m(\u001b[0m\u001b[0mmapped\u001b[0m\u001b[1;33m)\u001b[0m \u001b[1;32mand\u001b[0m \u001b[0misinstance\u001b[0m\u001b[1;33m(\u001b[0m\u001b[0mmapped\u001b[0m\u001b[1;33m[\u001b[0m\u001b[1;36m0\u001b[0m\u001b[1;33m]\u001b[0m\u001b[1;33m,\u001b[0m \u001b[0mSeries\u001b[0m\u001b[1;33m)\u001b[0m\u001b[1;33m:\u001b[0m\u001b[1;33m\u001b[0m\u001b[1;33m\u001b[0m\u001b[0m\n",
      "\u001b[1;32mpandas\\_libs\\lib.pyx\u001b[0m in \u001b[0;36mpandas._libs.lib.map_infer\u001b[1;34m()\u001b[0m\n",
      "\u001b[1;32mC:\\ProgramData\\Anaconda3\\lib\\site-packages\\pandas\\core\\tools\\numeric.py\u001b[0m in \u001b[0;36mto_numeric\u001b[1;34m(arg, errors, downcast)\u001b[0m\n\u001b[0;32m    150\u001b[0m         \u001b[0mcoerce_numeric\u001b[0m \u001b[1;33m=\u001b[0m \u001b[0merrors\u001b[0m \u001b[1;32mnot\u001b[0m \u001b[1;32min\u001b[0m \u001b[1;33m(\u001b[0m\u001b[1;34m\"ignore\"\u001b[0m\u001b[1;33m,\u001b[0m \u001b[1;34m\"raise\"\u001b[0m\u001b[1;33m)\u001b[0m\u001b[1;33m\u001b[0m\u001b[1;33m\u001b[0m\u001b[0m\n\u001b[0;32m    151\u001b[0m         \u001b[1;32mtry\u001b[0m\u001b[1;33m:\u001b[0m\u001b[1;33m\u001b[0m\u001b[1;33m\u001b[0m\u001b[0m\n\u001b[1;32m--> 152\u001b[1;33m             values = lib.maybe_convert_numeric(\n\u001b[0m\u001b[0;32m    153\u001b[0m                 \u001b[0mvalues\u001b[0m\u001b[1;33m,\u001b[0m \u001b[0mset\u001b[0m\u001b[1;33m(\u001b[0m\u001b[1;33m)\u001b[0m\u001b[1;33m,\u001b[0m \u001b[0mcoerce_numeric\u001b[0m\u001b[1;33m=\u001b[0m\u001b[0mcoerce_numeric\u001b[0m\u001b[1;33m\u001b[0m\u001b[1;33m\u001b[0m\u001b[0m\n\u001b[0;32m    154\u001b[0m             )\n",
      "\u001b[1;32mpandas\\_libs\\lib.pyx\u001b[0m in \u001b[0;36mpandas._libs.lib.maybe_convert_numeric\u001b[1;34m()\u001b[0m\n",
      "\u001b[1;31mValueError\u001b[0m: Unable to parse string \"2,385\" at position 0"
     ]
    }
   ],
   "source": [
    "temp['quality_5'] = temp['quality_5'].apply(pd.to_numeric)"
   ]
  },
  {
   "cell_type": "code",
   "execution_count": 92,
   "metadata": {
    "scrolled": true
   },
   "outputs": [
    {
     "data": {
      "text/plain": [
       "array(['0', '4', '8', ..., '98,175', '7,998', '9,558'], dtype=object)"
      ]
     },
     "execution_count": 92,
     "metadata": {},
     "output_type": "execute_result"
    }
   ],
   "source": [
    "temp['quality_5'].unique()"
   ]
  },
  {
   "cell_type": "markdown",
   "metadata": {},
   "source": [
    "<br>\n",
    "<div style=\"color:red; font-size:30pt\"> 1000단위 comma 없애고 다시 불러오자! </div>\n",
    "<br>\n",
    "<div style=\"color:blue; font-size:15pt\"> => thousands 매개변수 이용 </div>"
   ]
  },
  {
   "cell_type": "code",
   "execution_count": 22,
   "metadata": {},
   "outputs": [],
   "source": [
    "train_quality  = pd.read_csv(PATH+'train_quality_data.csv', thousands = ',')"
   ]
  },
  {
   "cell_type": "code",
   "execution_count": 23,
   "metadata": {},
   "outputs": [],
   "source": [
    "temp = train_quality.copy()"
   ]
  },
  {
   "cell_type": "code",
   "execution_count": 24,
   "metadata": {
    "scrolled": true
   },
   "outputs": [
    {
     "data": {
      "text/plain": [
       "array([0.0000e+00, 4.0000e+00, 8.0000e+00, ..., 9.8175e+04, 7.9980e+03,\n",
       "       9.5580e+03])"
      ]
     },
     "execution_count": 24,
     "metadata": {},
     "output_type": "execute_result"
    }
   ],
   "source": [
    "temp['quality_5'].unique()"
   ]
  },
  {
   "cell_type": "code",
   "execution_count": 99,
   "metadata": {},
   "outputs": [
    {
     "data": {
      "text/plain": [
       "array([   0,    2,   44,   87,   36,    4,  348,    9,    6,  283,    5,\n",
       "         68,   49,   62,   75,   19,  418,   37, 1598,   24,   12,   46,\n",
       "        110,    1,   78, 4789, 5285,   74,   30,  600,   47,   67,  105,\n",
       "         25,   82,   92,  159,   72, 1603, 1280,  433,  109,   13,  111,\n",
       "         98,  422,    3,  129,   51,  117,    7,   21,   15,   11,   10,\n",
       "        178, 1200,   65,   56,   22,   42,   59,  210,  156,  574,  202,\n",
       "        517,   33,   29,   14,    8,  328,   17,   77,   32,   81,   28,\n",
       "         64,   41,   20,  132,   57,   55,   60,   85,   73,   39,   66,\n",
       "        131,  112,   38,  617,  275,  199,  119,  198,  304,  788,  182,\n",
       "       1274,  356,  765,   61,  530,  167,  381,   26,  264,   89, 1174,\n",
       "       2162,   52,   18,  505, 3630, 2529, 2259,   27,  108,  123, 1209,\n",
       "        242,   16,  443, 3000, 1027,   83,  139,   31, 1689,  267,   88,\n",
       "        389,  714,  347, 1611, 2884, 1080,   43,  350, 1914,  162,  254,\n",
       "         35,  196,   50,  102,   58, 1668,  179,  195, 2699,  158,  188,\n",
       "         97,   48,  260,   80,  107,   71,   79,  189,   93,  238,  344,\n",
       "       3108,  235,  103,   34,  286, 1348,  599,  128,  453, 3479,   45,\n",
       "        900,  628,   86,  562,  869,  778,  222,  279, 1373,   23,   40,\n",
       "        197,  528,  145,  125, 2791, 2057,  706, 1183,  115,  116,  104,\n",
       "        155,  252,  106,  135,  338,  429,  452,  206, 1459,  491, 1251,\n",
       "        146,   99,  176, 1475, 1627,  201,   76, 4420,  538, 1513, 7199,\n",
       "       5865, 2321, 4010, 7200, 5090,  659,  164,   84,   54,  593,  673,\n",
       "        261,  190,  263,  605,  181,  393,  140,  804, 4277, 5559, 7019,\n",
       "       2903, 6223, 3633,  973, 6140, 3582, 2002, 4458, 1575, 1599, 1937,\n",
       "       2051, 4347, 4750, 4346, 7124, 2181, 2403, 4138, 6686, 1678, 2174,\n",
       "        859, 6358, 5907, 3625, 4359, 1718, 5425, 5039, 1476, 5277, 3739,\n",
       "       5027, 3549, 6993, 2139, 5939, 5304, 3195, 1857, 1824, 3304, 5266,\n",
       "       4157, 3993, 2304, 2400, 3056, 1312,  133,   95,  101,  100, 5114,\n",
       "        205,   53,  378,  218,  126,  324,  860,  248,  127,  754,  670,\n",
       "        523,  295,  638,  710,  752,  630,  579,  426,  373,  578,  539,\n",
       "        735,  660,  712,  871,  768,  880, 1153,  297, 3589, 2566, 2029,\n",
       "        249,  276,  643,   91, 1120,  549,  172, 4927,  450,  884,  170,\n",
       "        247,  848,  160,  647,   63,  395,  214, 2436,  556,   96, 3194,\n",
       "         70,  294,  113,  310,  118,  169,  151,   69,  850,  144,  431,\n",
       "        764,  508, 6965,  134, 2538, 5274,  758, 3683, 3003, 4456,  645,\n",
       "       6753, 6534, 1366, 6645, 2599, 1017, 2416, 4286, 6588, 5146, 1115,\n",
       "       4331, 6199, 5033, 2641, 4115, 4583, 6351, 2959, 3526, 2301,  642,\n",
       "       4387, 2782, 1088, 7132, 5576, 2674, 1000, 6545, 1252, 5904, 1863,\n",
       "        839, 4075, 4501, 2371, 4779,  187, 1744, 6531, 6369, 2198, 2767,\n",
       "       6910, 6877, 1927,  875,  287,  736, 1318,  342, 2619,  321,  560,\n",
       "        251,  114,  152,  225,  274,  407,  227,  180,  256,  184,  444,\n",
       "        239,  397,  799,  501, 2486, 2604,  366, 1105,  308,  154, 1064,\n",
       "       1134, 3101, 1944, 1203, 1710, 2094, 1507, 3880, 2877,  358,  149,\n",
       "        121,  148,  266,  124,  153,  192,  292,  165, 1376,  147,   94,\n",
       "        137,   90,  237,  136,  246,  177,  122,  166,  157,  245,  537,\n",
       "        414, 3026,  807, 1089,  200,  186,  208,  866, 3330,  221,  226,\n",
       "        290,  259,  334,  341,  960,  485,  623,  268,  976, 2166,  985,\n",
       "        319,  819,  529,  582,  652, 1317,  634, 1785,  681, 2382, 1143,\n",
       "        524,  641,  396,  961,  307, 1389, 1704, 6599, 3311, 6014, 4148,\n",
       "       1315, 6296,  525,  215,  213,  278,  663,  682,  120,  150, 2286,\n",
       "        303,  417,  784,  502,  388,  335,  253,  585,  369, 2692, 2358,\n",
       "        143,  471,  312, 1663, 1147,  713,  323,  943,  746,  185,  455,\n",
       "        495,  830,  430,  410, 1272,  655, 1040, 1230,  311,  767,  269,\n",
       "       1813,  211,  183,  223,  142,  299,  262,  398, 1263,  420, 3058,\n",
       "        281,  400,  561,  376,  684,  207,  168,  367,  220,  282,  612,\n",
       "        856,  284,  174,  844, 1019,  615,  230, 1827,  318,  473, 1041,\n",
       "       1591, 1020,  305,  244, 2794,  138,  654,  203,  648,  432, 1121,\n",
       "        257,  250,  330, 1025, 1500,  409,  957, 1051, 6466, 2470,  753,\n",
       "       5219, 3316, 2547, 2440, 1672,  361,  380, 2390,  343, 4602, 4046,\n",
       "       2729, 5270, 5963, 4849, 5952, 1722, 6300, 4127, 6176,  448,  161,\n",
       "        440,  483,  229,  316,  219, 2171,  336,  217,  340,  470, 5490,\n",
       "        812, 4642, 6510,  236,  467,  442,  441,  365, 1497, 2183, 1519,\n",
       "       4381, 1034,  191,  194,  241, 1028,  383,  331,  258, 3600, 1269,\n",
       "       5448, 2924, 1258,  998, 2213,  333,  309,  463, 1144, 1168,  314,\n",
       "       2684,  633,  568,  702,  477,  748,  896, 1735, 2462, 5136, 3310,\n",
       "        881, 4363, 6069, 4366, 6080, 3448,  394, 3515, 3252, 5911, 1593,\n",
       "        270,  130, 4125,  594,  813,  865, 1047,  354,  486,  425, 1926,\n",
       "        291, 1557,  224,  986, 1703, 2256, 6132,  355,  693, 5085, 5828,\n",
       "       2627, 3001, 3822, 5452, 5433,  317, 2953,  777, 4395,  666, 5721,\n",
       "        277,  583, 1132,  465,  216,  435, 2369,  843, 1777,  555,  385,\n",
       "        665,  193,  171,  635, 1757, 1759, 2738, 1141,  588,  374, 3486,\n",
       "        608,  464,  416,  518, 1589,  772,  609, 2764, 6984, 1789, 6490,\n",
       "       2113, 2781, 1884,  877, 2624, 2088, 6269, 1508, 3643, 3138, 6462,\n",
       "       5275, 6695, 2093, 6506, 2147, 4702, 6247,  913, 4338, 3924, 4454,\n",
       "       5244, 5560,  384,  497,  725,  500,  835, 4821,  329, 4618,  548,\n",
       "       2918,  472,  413, 1004,  327, 3360, 6573,  352,  484, 2997, 2004,\n",
       "       4861, 5987, 2989, 2310, 2294, 2332, 4120, 5506, 2994, 2948,  212,\n",
       "       1745, 1826, 2926, 2401,  163,  718,  745,  370,  535,  390,  141,\n",
       "        362,  478,  762,  475, 1003,  487,  289,  306,  428,  353,  481,\n",
       "        591,  577, 1046, 2296,  326, 5584, 1043,  456,  363,  540, 1840,\n",
       "       1614, 1615,  747, 2298, 2686,  610, 3296,  271,  325,  809,  204,\n",
       "       3772, 2021,  744,  614], dtype=int64)"
      ]
     },
     "execution_count": 99,
     "metadata": {},
     "output_type": "execute_result"
    }
   ],
   "source": [
    "temp['quality_7'].unique()"
   ]
  },
  {
   "cell_type": "code",
   "execution_count": 25,
   "metadata": {
    "scrolled": true
   },
   "outputs": [
    {
     "name": "stdout",
     "output_type": "stream",
     "text": [
      "<class 'pandas.core.frame.DataFrame'>\n",
      "RangeIndex: 828624 entries, 0 to 828623\n",
      "Data columns (total 16 columns):\n",
      " #   Column      Non-Null Count   Dtype  \n",
      "---  ------      --------------   -----  \n",
      " 0   time        828624 non-null  int64  \n",
      " 1   user_id     828624 non-null  int64  \n",
      " 2   fwver       788544 non-null  object \n",
      " 3   quality_0   684192 non-null  float64\n",
      " 4   quality_1   828624 non-null  int64  \n",
      " 5   quality_2   788511 non-null  float64\n",
      " 6   quality_3   828624 non-null  int64  \n",
      " 7   quality_4   828624 non-null  int64  \n",
      " 8   quality_5   828604 non-null  float64\n",
      " 9   quality_6   828624 non-null  int64  \n",
      " 10  quality_7   828624 non-null  int64  \n",
      " 11  quality_8   828624 non-null  int64  \n",
      " 12  quality_9   828624 non-null  int64  \n",
      " 13  quality_10  828624 non-null  int64  \n",
      " 14  quality_11  828624 non-null  int64  \n",
      " 15  quality_12  828624 non-null  int64  \n",
      "dtypes: float64(3), int64(12), object(1)\n",
      "memory usage: 101.2+ MB\n"
     ]
    }
   ],
   "source": [
    "temp.info()"
   ]
  },
  {
   "cell_type": "markdown",
   "metadata": {},
   "source": [
    "## quality의 값 모두 float/int로 바뀐 것 확인함. 이제 결측치 처리!"
   ]
  },
  {
   "cell_type": "code",
   "execution_count": 26,
   "metadata": {},
   "outputs": [
    {
     "data": {
      "text/plain": [
       "time               0\n",
       "user_id            0\n",
       "fwver          40080\n",
       "quality_0     144432\n",
       "quality_1          0\n",
       "quality_2      40113\n",
       "quality_3          0\n",
       "quality_4          0\n",
       "quality_5         20\n",
       "quality_6          0\n",
       "quality_7          0\n",
       "quality_8          0\n",
       "quality_9          0\n",
       "quality_10         0\n",
       "quality_11         0\n",
       "quality_12         0\n",
       "dtype: int64"
      ]
     },
     "execution_count": 26,
     "metadata": {},
     "output_type": "execute_result"
    }
   ],
   "source": [
    "temp.isnull().sum()"
   ]
  },
  {
   "cell_type": "code",
   "execution_count": 27,
   "metadata": {},
   "outputs": [
    {
     "data": {
      "text/plain": [
       "array(['05.15.2138', '04.22.1750', '04.16.3553', '04.33.1261',\n",
       "       '04.22.1778', '04.33.1185', '04.16.3571', '05.66.3571',\n",
       "       '03.11.1149', '03.11.1167', '04.82.1684', '04.82.1778',\n",
       "       '04.33.1149', nan, '05.66.3237', '04.73.2237', '09.17.1431',\n",
       "       '04.22.1684', '05.15.2120', '04.33.1125', '05.15.2122',\n",
       "       '04.22.1666', '04.22.1656', '04.16.3439', '04.73.2571',\n",
       "       '05.15.2114', '04.16.3345', '04.22.1442'], dtype=object)"
      ]
     },
     "execution_count": 27,
     "metadata": {},
     "output_type": "execute_result"
    }
   ],
   "source": [
    "temp['fwver'].unique()"
   ]
  },
  {
   "cell_type": "markdown",
   "metadata": {},
   "source": [
    "## fwver (펌웨어 버전) 결측치 처리 패스, quality_0,2,5 결측치 처리 필요"
   ]
  },
  {
   "cell_type": "code",
   "execution_count": 28,
   "metadata": {
    "scrolled": true
   },
   "outputs": [
    {
     "data": {
      "text/html": [
       "<div>\n",
       "<style scoped>\n",
       "    .dataframe tbody tr th:only-of-type {\n",
       "        vertical-align: middle;\n",
       "    }\n",
       "\n",
       "    .dataframe tbody tr th {\n",
       "        vertical-align: top;\n",
       "    }\n",
       "\n",
       "    .dataframe thead th {\n",
       "        text-align: right;\n",
       "    }\n",
       "</style>\n",
       "<table border=\"1\" class=\"dataframe\">\n",
       "  <thead>\n",
       "    <tr style=\"text-align: right;\">\n",
       "      <th></th>\n",
       "      <th>time</th>\n",
       "      <th>user_id</th>\n",
       "      <th>fwver</th>\n",
       "      <th>quality_0</th>\n",
       "      <th>quality_1</th>\n",
       "      <th>quality_2</th>\n",
       "      <th>quality_3</th>\n",
       "      <th>quality_4</th>\n",
       "      <th>quality_5</th>\n",
       "      <th>quality_6</th>\n",
       "      <th>quality_7</th>\n",
       "      <th>quality_8</th>\n",
       "      <th>quality_9</th>\n",
       "      <th>quality_10</th>\n",
       "      <th>quality_11</th>\n",
       "      <th>quality_12</th>\n",
       "    </tr>\n",
       "  </thead>\n",
       "  <tbody>\n",
       "    <tr>\n",
       "      <th>58907</th>\n",
       "      <td>20201128234000</td>\n",
       "      <td>11154</td>\n",
       "      <td>04.33.1261</td>\n",
       "      <td>0.0</td>\n",
       "      <td>0</td>\n",
       "      <td>0.0</td>\n",
       "      <td>0</td>\n",
       "      <td>0</td>\n",
       "      <td>NaN</td>\n",
       "      <td>0</td>\n",
       "      <td>0</td>\n",
       "      <td>0</td>\n",
       "      <td>0</td>\n",
       "      <td>200496</td>\n",
       "      <td>0</td>\n",
       "      <td>2</td>\n",
       "    </tr>\n",
       "    <tr>\n",
       "      <th>150490</th>\n",
       "      <td>20201126231000</td>\n",
       "      <td>12681</td>\n",
       "      <td>04.22.1778</td>\n",
       "      <td>0.0</td>\n",
       "      <td>0</td>\n",
       "      <td>0.0</td>\n",
       "      <td>0</td>\n",
       "      <td>0</td>\n",
       "      <td>NaN</td>\n",
       "      <td>0</td>\n",
       "      <td>11</td>\n",
       "      <td>0</td>\n",
       "      <td>0</td>\n",
       "      <td>843420</td>\n",
       "      <td>0</td>\n",
       "      <td>3</td>\n",
       "    </tr>\n",
       "    <tr>\n",
       "      <th>150491</th>\n",
       "      <td>20201126231000</td>\n",
       "      <td>12681</td>\n",
       "      <td>04.22.1778</td>\n",
       "      <td>0.0</td>\n",
       "      <td>0</td>\n",
       "      <td>0.0</td>\n",
       "      <td>0</td>\n",
       "      <td>0</td>\n",
       "      <td>NaN</td>\n",
       "      <td>0</td>\n",
       "      <td>11</td>\n",
       "      <td>0</td>\n",
       "      <td>0</td>\n",
       "      <td>843420</td>\n",
       "      <td>0</td>\n",
       "      <td>3</td>\n",
       "    </tr>\n",
       "    <tr>\n",
       "      <th>150502</th>\n",
       "      <td>20201127011000</td>\n",
       "      <td>12681</td>\n",
       "      <td>04.22.1778</td>\n",
       "      <td>0.0</td>\n",
       "      <td>0</td>\n",
       "      <td>0.0</td>\n",
       "      <td>0</td>\n",
       "      <td>0</td>\n",
       "      <td>NaN</td>\n",
       "      <td>0</td>\n",
       "      <td>0</td>\n",
       "      <td>0</td>\n",
       "      <td>0</td>\n",
       "      <td>1037689</td>\n",
       "      <td>0</td>\n",
       "      <td>0</td>\n",
       "    </tr>\n",
       "    <tr>\n",
       "      <th>150503</th>\n",
       "      <td>20201127011000</td>\n",
       "      <td>12681</td>\n",
       "      <td>04.22.1778</td>\n",
       "      <td>0.0</td>\n",
       "      <td>0</td>\n",
       "      <td>0.0</td>\n",
       "      <td>0</td>\n",
       "      <td>0</td>\n",
       "      <td>NaN</td>\n",
       "      <td>0</td>\n",
       "      <td>0</td>\n",
       "      <td>0</td>\n",
       "      <td>0</td>\n",
       "      <td>1037689</td>\n",
       "      <td>0</td>\n",
       "      <td>0</td>\n",
       "    </tr>\n",
       "    <tr>\n",
       "      <th>150527</th>\n",
       "      <td>20201127051000</td>\n",
       "      <td>12681</td>\n",
       "      <td>04.22.1778</td>\n",
       "      <td>0.0</td>\n",
       "      <td>0</td>\n",
       "      <td>0.0</td>\n",
       "      <td>0</td>\n",
       "      <td>0</td>\n",
       "      <td>NaN</td>\n",
       "      <td>0</td>\n",
       "      <td>0</td>\n",
       "      <td>0</td>\n",
       "      <td>0</td>\n",
       "      <td>631620</td>\n",
       "      <td>0</td>\n",
       "      <td>0</td>\n",
       "    </tr>\n",
       "    <tr>\n",
       "      <th>150538</th>\n",
       "      <td>20201127071000</td>\n",
       "      <td>12681</td>\n",
       "      <td>04.22.1778</td>\n",
       "      <td>0.0</td>\n",
       "      <td>0</td>\n",
       "      <td>0.0</td>\n",
       "      <td>0</td>\n",
       "      <td>0</td>\n",
       "      <td>NaN</td>\n",
       "      <td>0</td>\n",
       "      <td>0</td>\n",
       "      <td>0</td>\n",
       "      <td>0</td>\n",
       "      <td>1012799</td>\n",
       "      <td>0</td>\n",
       "      <td>0</td>\n",
       "    </tr>\n",
       "    <tr>\n",
       "      <th>150539</th>\n",
       "      <td>20201127071000</td>\n",
       "      <td>12681</td>\n",
       "      <td>04.22.1778</td>\n",
       "      <td>0.0</td>\n",
       "      <td>0</td>\n",
       "      <td>0.0</td>\n",
       "      <td>0</td>\n",
       "      <td>0</td>\n",
       "      <td>NaN</td>\n",
       "      <td>0</td>\n",
       "      <td>0</td>\n",
       "      <td>0</td>\n",
       "      <td>0</td>\n",
       "      <td>1012799</td>\n",
       "      <td>0</td>\n",
       "      <td>0</td>\n",
       "    </tr>\n",
       "    <tr>\n",
       "      <th>209696</th>\n",
       "      <td>20201122004000</td>\n",
       "      <td>13720</td>\n",
       "      <td>04.22.1750</td>\n",
       "      <td>0.0</td>\n",
       "      <td>0</td>\n",
       "      <td>0.0</td>\n",
       "      <td>0</td>\n",
       "      <td>0</td>\n",
       "      <td>NaN</td>\n",
       "      <td>0</td>\n",
       "      <td>0</td>\n",
       "      <td>0</td>\n",
       "      <td>0</td>\n",
       "      <td>1005588</td>\n",
       "      <td>0</td>\n",
       "      <td>0</td>\n",
       "    </tr>\n",
       "    <tr>\n",
       "      <th>209697</th>\n",
       "      <td>20201122004000</td>\n",
       "      <td>13720</td>\n",
       "      <td>04.22.1750</td>\n",
       "      <td>0.0</td>\n",
       "      <td>0</td>\n",
       "      <td>0.0</td>\n",
       "      <td>0</td>\n",
       "      <td>0</td>\n",
       "      <td>NaN</td>\n",
       "      <td>0</td>\n",
       "      <td>0</td>\n",
       "      <td>0</td>\n",
       "      <td>0</td>\n",
       "      <td>1005588</td>\n",
       "      <td>0</td>\n",
       "      <td>0</td>\n",
       "    </tr>\n",
       "    <tr>\n",
       "      <th>213467</th>\n",
       "      <td>20201104181000</td>\n",
       "      <td>13840</td>\n",
       "      <td>04.22.1750</td>\n",
       "      <td>0.0</td>\n",
       "      <td>0</td>\n",
       "      <td>0.0</td>\n",
       "      <td>0</td>\n",
       "      <td>0</td>\n",
       "      <td>NaN</td>\n",
       "      <td>0</td>\n",
       "      <td>0</td>\n",
       "      <td>0</td>\n",
       "      <td>0</td>\n",
       "      <td>497429</td>\n",
       "      <td>0</td>\n",
       "      <td>0</td>\n",
       "    </tr>\n",
       "    <tr>\n",
       "      <th>213479</th>\n",
       "      <td>20201104201000</td>\n",
       "      <td>13840</td>\n",
       "      <td>04.22.1750</td>\n",
       "      <td>0.0</td>\n",
       "      <td>0</td>\n",
       "      <td>0.0</td>\n",
       "      <td>0</td>\n",
       "      <td>0</td>\n",
       "      <td>NaN</td>\n",
       "      <td>0</td>\n",
       "      <td>0</td>\n",
       "      <td>0</td>\n",
       "      <td>0</td>\n",
       "      <td>501599</td>\n",
       "      <td>0</td>\n",
       "      <td>0</td>\n",
       "    </tr>\n",
       "    <tr>\n",
       "      <th>213491</th>\n",
       "      <td>20201104221000</td>\n",
       "      <td>13840</td>\n",
       "      <td>04.22.1750</td>\n",
       "      <td>0.0</td>\n",
       "      <td>0</td>\n",
       "      <td>0.0</td>\n",
       "      <td>0</td>\n",
       "      <td>0</td>\n",
       "      <td>NaN</td>\n",
       "      <td>0</td>\n",
       "      <td>0</td>\n",
       "      <td>0</td>\n",
       "      <td>0</td>\n",
       "      <td>501073</td>\n",
       "      <td>0</td>\n",
       "      <td>0</td>\n",
       "    </tr>\n",
       "    <tr>\n",
       "      <th>259931</th>\n",
       "      <td>20201106125000</td>\n",
       "      <td>14721</td>\n",
       "      <td>04.22.1750</td>\n",
       "      <td>0.0</td>\n",
       "      <td>0</td>\n",
       "      <td>0.0</td>\n",
       "      <td>0</td>\n",
       "      <td>0</td>\n",
       "      <td>NaN</td>\n",
       "      <td>0</td>\n",
       "      <td>1</td>\n",
       "      <td>0</td>\n",
       "      <td>0</td>\n",
       "      <td>790615</td>\n",
       "      <td>0</td>\n",
       "      <td>0</td>\n",
       "    </tr>\n",
       "    <tr>\n",
       "      <th>277103</th>\n",
       "      <td>20201129203000</td>\n",
       "      <td>15090</td>\n",
       "      <td>04.22.1778</td>\n",
       "      <td>0.0</td>\n",
       "      <td>0</td>\n",
       "      <td>0.0</td>\n",
       "      <td>0</td>\n",
       "      <td>0</td>\n",
       "      <td>NaN</td>\n",
       "      <td>0</td>\n",
       "      <td>0</td>\n",
       "      <td>0</td>\n",
       "      <td>0</td>\n",
       "      <td>673784</td>\n",
       "      <td>0</td>\n",
       "      <td>3</td>\n",
       "    </tr>\n",
       "    <tr>\n",
       "      <th>360071</th>\n",
       "      <td>20201110015000</td>\n",
       "      <td>16441</td>\n",
       "      <td>04.22.1750</td>\n",
       "      <td>-1.0</td>\n",
       "      <td>-1</td>\n",
       "      <td>-1.0</td>\n",
       "      <td>0</td>\n",
       "      <td>0</td>\n",
       "      <td>NaN</td>\n",
       "      <td>-1</td>\n",
       "      <td>0</td>\n",
       "      <td>0</td>\n",
       "      <td>0</td>\n",
       "      <td>239516</td>\n",
       "      <td>-1</td>\n",
       "      <td>0</td>\n",
       "    </tr>\n",
       "    <tr>\n",
       "      <th>451774</th>\n",
       "      <td>20201121032000</td>\n",
       "      <td>18392</td>\n",
       "      <td>04.33.1261</td>\n",
       "      <td>0.0</td>\n",
       "      <td>0</td>\n",
       "      <td>0.0</td>\n",
       "      <td>0</td>\n",
       "      <td>0</td>\n",
       "      <td>NaN</td>\n",
       "      <td>0</td>\n",
       "      <td>0</td>\n",
       "      <td>0</td>\n",
       "      <td>0</td>\n",
       "      <td>1015637</td>\n",
       "      <td>0</td>\n",
       "      <td>0</td>\n",
       "    </tr>\n",
       "    <tr>\n",
       "      <th>451775</th>\n",
       "      <td>20201121032000</td>\n",
       "      <td>18392</td>\n",
       "      <td>04.33.1261</td>\n",
       "      <td>0.0</td>\n",
       "      <td>0</td>\n",
       "      <td>0.0</td>\n",
       "      <td>0</td>\n",
       "      <td>0</td>\n",
       "      <td>NaN</td>\n",
       "      <td>0</td>\n",
       "      <td>0</td>\n",
       "      <td>0</td>\n",
       "      <td>0</td>\n",
       "      <td>1015637</td>\n",
       "      <td>0</td>\n",
       "      <td>0</td>\n",
       "    </tr>\n",
       "    <tr>\n",
       "      <th>595427</th>\n",
       "      <td>20201106080000</td>\n",
       "      <td>20958</td>\n",
       "      <td>04.33.1185</td>\n",
       "      <td>0.0</td>\n",
       "      <td>0</td>\n",
       "      <td>0.0</td>\n",
       "      <td>0</td>\n",
       "      <td>0</td>\n",
       "      <td>NaN</td>\n",
       "      <td>0</td>\n",
       "      <td>0</td>\n",
       "      <td>0</td>\n",
       "      <td>0</td>\n",
       "      <td>681199</td>\n",
       "      <td>0</td>\n",
       "      <td>3</td>\n",
       "    </tr>\n",
       "    <tr>\n",
       "      <th>771515</th>\n",
       "      <td>20201104023000</td>\n",
       "      <td>24004</td>\n",
       "      <td>04.22.1750</td>\n",
       "      <td>0.0</td>\n",
       "      <td>0</td>\n",
       "      <td>0.0</td>\n",
       "      <td>0</td>\n",
       "      <td>0</td>\n",
       "      <td>NaN</td>\n",
       "      <td>600</td>\n",
       "      <td>736</td>\n",
       "      <td>0</td>\n",
       "      <td>0</td>\n",
       "      <td>293913</td>\n",
       "      <td>0</td>\n",
       "      <td>1</td>\n",
       "    </tr>\n",
       "  </tbody>\n",
       "</table>\n",
       "</div>"
      ],
      "text/plain": [
       "                  time  user_id       fwver  quality_0  quality_1  quality_2  \\\n",
       "58907   20201128234000    11154  04.33.1261        0.0          0        0.0   \n",
       "150490  20201126231000    12681  04.22.1778        0.0          0        0.0   \n",
       "150491  20201126231000    12681  04.22.1778        0.0          0        0.0   \n",
       "150502  20201127011000    12681  04.22.1778        0.0          0        0.0   \n",
       "150503  20201127011000    12681  04.22.1778        0.0          0        0.0   \n",
       "150527  20201127051000    12681  04.22.1778        0.0          0        0.0   \n",
       "150538  20201127071000    12681  04.22.1778        0.0          0        0.0   \n",
       "150539  20201127071000    12681  04.22.1778        0.0          0        0.0   \n",
       "209696  20201122004000    13720  04.22.1750        0.0          0        0.0   \n",
       "209697  20201122004000    13720  04.22.1750        0.0          0        0.0   \n",
       "213467  20201104181000    13840  04.22.1750        0.0          0        0.0   \n",
       "213479  20201104201000    13840  04.22.1750        0.0          0        0.0   \n",
       "213491  20201104221000    13840  04.22.1750        0.0          0        0.0   \n",
       "259931  20201106125000    14721  04.22.1750        0.0          0        0.0   \n",
       "277103  20201129203000    15090  04.22.1778        0.0          0        0.0   \n",
       "360071  20201110015000    16441  04.22.1750       -1.0         -1       -1.0   \n",
       "451774  20201121032000    18392  04.33.1261        0.0          0        0.0   \n",
       "451775  20201121032000    18392  04.33.1261        0.0          0        0.0   \n",
       "595427  20201106080000    20958  04.33.1185        0.0          0        0.0   \n",
       "771515  20201104023000    24004  04.22.1750        0.0          0        0.0   \n",
       "\n",
       "        quality_3  quality_4  quality_5  quality_6  quality_7  quality_8  \\\n",
       "58907           0          0        NaN          0          0          0   \n",
       "150490          0          0        NaN          0         11          0   \n",
       "150491          0          0        NaN          0         11          0   \n",
       "150502          0          0        NaN          0          0          0   \n",
       "150503          0          0        NaN          0          0          0   \n",
       "150527          0          0        NaN          0          0          0   \n",
       "150538          0          0        NaN          0          0          0   \n",
       "150539          0          0        NaN          0          0          0   \n",
       "209696          0          0        NaN          0          0          0   \n",
       "209697          0          0        NaN          0          0          0   \n",
       "213467          0          0        NaN          0          0          0   \n",
       "213479          0          0        NaN          0          0          0   \n",
       "213491          0          0        NaN          0          0          0   \n",
       "259931          0          0        NaN          0          1          0   \n",
       "277103          0          0        NaN          0          0          0   \n",
       "360071          0          0        NaN         -1          0          0   \n",
       "451774          0          0        NaN          0          0          0   \n",
       "451775          0          0        NaN          0          0          0   \n",
       "595427          0          0        NaN          0          0          0   \n",
       "771515          0          0        NaN        600        736          0   \n",
       "\n",
       "        quality_9  quality_10  quality_11  quality_12  \n",
       "58907           0      200496           0           2  \n",
       "150490          0      843420           0           3  \n",
       "150491          0      843420           0           3  \n",
       "150502          0     1037689           0           0  \n",
       "150503          0     1037689           0           0  \n",
       "150527          0      631620           0           0  \n",
       "150538          0     1012799           0           0  \n",
       "150539          0     1012799           0           0  \n",
       "209696          0     1005588           0           0  \n",
       "209697          0     1005588           0           0  \n",
       "213467          0      497429           0           0  \n",
       "213479          0      501599           0           0  \n",
       "213491          0      501073           0           0  \n",
       "259931          0      790615           0           0  \n",
       "277103          0      673784           0           3  \n",
       "360071          0      239516          -1           0  \n",
       "451774          0     1015637           0           0  \n",
       "451775          0     1015637           0           0  \n",
       "595427          0      681199           0           3  \n",
       "771515          0      293913           0           1  "
      ]
     },
     "execution_count": 28,
     "metadata": {},
     "output_type": "execute_result"
    }
   ],
   "source": [
    "findrow_5 = temp.loc[(temp['quality_5'].isnull())]\n",
    "findrow_5"
   ]
  },
  {
   "cell_type": "code",
   "execution_count": 29,
   "metadata": {
    "scrolled": true
   },
   "outputs": [
    {
     "data": {
      "text/html": [
       "<div>\n",
       "<style scoped>\n",
       "    .dataframe tbody tr th:only-of-type {\n",
       "        vertical-align: middle;\n",
       "    }\n",
       "\n",
       "    .dataframe tbody tr th {\n",
       "        vertical-align: top;\n",
       "    }\n",
       "\n",
       "    .dataframe thead th {\n",
       "        text-align: right;\n",
       "    }\n",
       "</style>\n",
       "<table border=\"1\" class=\"dataframe\">\n",
       "  <thead>\n",
       "    <tr style=\"text-align: right;\">\n",
       "      <th></th>\n",
       "      <th>time</th>\n",
       "      <th>user_id</th>\n",
       "      <th>fwver</th>\n",
       "      <th>quality_0</th>\n",
       "      <th>quality_1</th>\n",
       "      <th>quality_2</th>\n",
       "      <th>quality_3</th>\n",
       "      <th>quality_4</th>\n",
       "      <th>quality_5</th>\n",
       "      <th>quality_6</th>\n",
       "      <th>quality_7</th>\n",
       "      <th>quality_8</th>\n",
       "      <th>quality_9</th>\n",
       "      <th>quality_10</th>\n",
       "      <th>quality_11</th>\n",
       "      <th>quality_12</th>\n",
       "    </tr>\n",
       "  </thead>\n",
       "  <tbody>\n",
       "    <tr>\n",
       "      <th>38316</th>\n",
       "      <td>20201120010000</td>\n",
       "      <td>10693</td>\n",
       "      <td>NaN</td>\n",
       "      <td>NaN</td>\n",
       "      <td>0</td>\n",
       "      <td>NaN</td>\n",
       "      <td>0</td>\n",
       "      <td>0</td>\n",
       "      <td>0.0</td>\n",
       "      <td>0</td>\n",
       "      <td>0</td>\n",
       "      <td>0</td>\n",
       "      <td>0</td>\n",
       "      <td>0</td>\n",
       "      <td>0</td>\n",
       "      <td>0</td>\n",
       "    </tr>\n",
       "    <tr>\n",
       "      <th>38317</th>\n",
       "      <td>20201120010000</td>\n",
       "      <td>10693</td>\n",
       "      <td>NaN</td>\n",
       "      <td>NaN</td>\n",
       "      <td>0</td>\n",
       "      <td>NaN</td>\n",
       "      <td>0</td>\n",
       "      <td>0</td>\n",
       "      <td>0.0</td>\n",
       "      <td>0</td>\n",
       "      <td>0</td>\n",
       "      <td>0</td>\n",
       "      <td>0</td>\n",
       "      <td>0</td>\n",
       "      <td>0</td>\n",
       "      <td>0</td>\n",
       "    </tr>\n",
       "    <tr>\n",
       "      <th>38318</th>\n",
       "      <td>20201120010000</td>\n",
       "      <td>10693</td>\n",
       "      <td>NaN</td>\n",
       "      <td>NaN</td>\n",
       "      <td>0</td>\n",
       "      <td>NaN</td>\n",
       "      <td>0</td>\n",
       "      <td>0</td>\n",
       "      <td>0.0</td>\n",
       "      <td>0</td>\n",
       "      <td>0</td>\n",
       "      <td>0</td>\n",
       "      <td>0</td>\n",
       "      <td>0</td>\n",
       "      <td>0</td>\n",
       "      <td>0</td>\n",
       "    </tr>\n",
       "    <tr>\n",
       "      <th>38319</th>\n",
       "      <td>20201120010000</td>\n",
       "      <td>10693</td>\n",
       "      <td>NaN</td>\n",
       "      <td>NaN</td>\n",
       "      <td>0</td>\n",
       "      <td>NaN</td>\n",
       "      <td>0</td>\n",
       "      <td>0</td>\n",
       "      <td>0.0</td>\n",
       "      <td>0</td>\n",
       "      <td>0</td>\n",
       "      <td>0</td>\n",
       "      <td>0</td>\n",
       "      <td>0</td>\n",
       "      <td>0</td>\n",
       "      <td>0</td>\n",
       "    </tr>\n",
       "    <tr>\n",
       "      <th>38320</th>\n",
       "      <td>20201120010000</td>\n",
       "      <td>10693</td>\n",
       "      <td>NaN</td>\n",
       "      <td>NaN</td>\n",
       "      <td>0</td>\n",
       "      <td>NaN</td>\n",
       "      <td>0</td>\n",
       "      <td>0</td>\n",
       "      <td>0.0</td>\n",
       "      <td>0</td>\n",
       "      <td>0</td>\n",
       "      <td>0</td>\n",
       "      <td>0</td>\n",
       "      <td>0</td>\n",
       "      <td>0</td>\n",
       "      <td>0</td>\n",
       "    </tr>\n",
       "    <tr>\n",
       "      <th>...</th>\n",
       "      <td>...</td>\n",
       "      <td>...</td>\n",
       "      <td>...</td>\n",
       "      <td>...</td>\n",
       "      <td>...</td>\n",
       "      <td>...</td>\n",
       "      <td>...</td>\n",
       "      <td>...</td>\n",
       "      <td>...</td>\n",
       "      <td>...</td>\n",
       "      <td>...</td>\n",
       "      <td>...</td>\n",
       "      <td>...</td>\n",
       "      <td>...</td>\n",
       "      <td>...</td>\n",
       "      <td>...</td>\n",
       "    </tr>\n",
       "    <tr>\n",
       "      <th>828331</th>\n",
       "      <td>20201109232000</td>\n",
       "      <td>24982</td>\n",
       "      <td>NaN</td>\n",
       "      <td>NaN</td>\n",
       "      <td>0</td>\n",
       "      <td>NaN</td>\n",
       "      <td>0</td>\n",
       "      <td>0</td>\n",
       "      <td>0.0</td>\n",
       "      <td>0</td>\n",
       "      <td>0</td>\n",
       "      <td>0</td>\n",
       "      <td>0</td>\n",
       "      <td>0</td>\n",
       "      <td>0</td>\n",
       "      <td>0</td>\n",
       "    </tr>\n",
       "    <tr>\n",
       "      <th>828332</th>\n",
       "      <td>20201109232000</td>\n",
       "      <td>24982</td>\n",
       "      <td>NaN</td>\n",
       "      <td>NaN</td>\n",
       "      <td>0</td>\n",
       "      <td>NaN</td>\n",
       "      <td>0</td>\n",
       "      <td>0</td>\n",
       "      <td>0.0</td>\n",
       "      <td>0</td>\n",
       "      <td>0</td>\n",
       "      <td>0</td>\n",
       "      <td>0</td>\n",
       "      <td>0</td>\n",
       "      <td>0</td>\n",
       "      <td>0</td>\n",
       "    </tr>\n",
       "    <tr>\n",
       "      <th>828333</th>\n",
       "      <td>20201109232000</td>\n",
       "      <td>24982</td>\n",
       "      <td>NaN</td>\n",
       "      <td>NaN</td>\n",
       "      <td>-1</td>\n",
       "      <td>NaN</td>\n",
       "      <td>0</td>\n",
       "      <td>0</td>\n",
       "      <td>-1.0</td>\n",
       "      <td>-1</td>\n",
       "      <td>0</td>\n",
       "      <td>0</td>\n",
       "      <td>0</td>\n",
       "      <td>0</td>\n",
       "      <td>-1</td>\n",
       "      <td>0</td>\n",
       "    </tr>\n",
       "    <tr>\n",
       "      <th>828334</th>\n",
       "      <td>20201109232000</td>\n",
       "      <td>24982</td>\n",
       "      <td>NaN</td>\n",
       "      <td>NaN</td>\n",
       "      <td>-1</td>\n",
       "      <td>NaN</td>\n",
       "      <td>0</td>\n",
       "      <td>0</td>\n",
       "      <td>-1.0</td>\n",
       "      <td>-1</td>\n",
       "      <td>0</td>\n",
       "      <td>0</td>\n",
       "      <td>0</td>\n",
       "      <td>0</td>\n",
       "      <td>-1</td>\n",
       "      <td>0</td>\n",
       "    </tr>\n",
       "    <tr>\n",
       "      <th>828335</th>\n",
       "      <td>20201109232000</td>\n",
       "      <td>24982</td>\n",
       "      <td>NaN</td>\n",
       "      <td>NaN</td>\n",
       "      <td>0</td>\n",
       "      <td>NaN</td>\n",
       "      <td>0</td>\n",
       "      <td>0</td>\n",
       "      <td>0.0</td>\n",
       "      <td>0</td>\n",
       "      <td>0</td>\n",
       "      <td>0</td>\n",
       "      <td>0</td>\n",
       "      <td>0</td>\n",
       "      <td>0</td>\n",
       "      <td>0</td>\n",
       "    </tr>\n",
       "  </tbody>\n",
       "</table>\n",
       "<p>40113 rows × 16 columns</p>\n",
       "</div>"
      ],
      "text/plain": [
       "                  time  user_id fwver  quality_0  quality_1  quality_2  \\\n",
       "38316   20201120010000    10693   NaN        NaN          0        NaN   \n",
       "38317   20201120010000    10693   NaN        NaN          0        NaN   \n",
       "38318   20201120010000    10693   NaN        NaN          0        NaN   \n",
       "38319   20201120010000    10693   NaN        NaN          0        NaN   \n",
       "38320   20201120010000    10693   NaN        NaN          0        NaN   \n",
       "...                ...      ...   ...        ...        ...        ...   \n",
       "828331  20201109232000    24982   NaN        NaN          0        NaN   \n",
       "828332  20201109232000    24982   NaN        NaN          0        NaN   \n",
       "828333  20201109232000    24982   NaN        NaN         -1        NaN   \n",
       "828334  20201109232000    24982   NaN        NaN         -1        NaN   \n",
       "828335  20201109232000    24982   NaN        NaN          0        NaN   \n",
       "\n",
       "        quality_3  quality_4  quality_5  quality_6  quality_7  quality_8  \\\n",
       "38316           0          0        0.0          0          0          0   \n",
       "38317           0          0        0.0          0          0          0   \n",
       "38318           0          0        0.0          0          0          0   \n",
       "38319           0          0        0.0          0          0          0   \n",
       "38320           0          0        0.0          0          0          0   \n",
       "...           ...        ...        ...        ...        ...        ...   \n",
       "828331          0          0        0.0          0          0          0   \n",
       "828332          0          0        0.0          0          0          0   \n",
       "828333          0          0       -1.0         -1          0          0   \n",
       "828334          0          0       -1.0         -1          0          0   \n",
       "828335          0          0        0.0          0          0          0   \n",
       "\n",
       "        quality_9  quality_10  quality_11  quality_12  \n",
       "38316           0           0           0           0  \n",
       "38317           0           0           0           0  \n",
       "38318           0           0           0           0  \n",
       "38319           0           0           0           0  \n",
       "38320           0           0           0           0  \n",
       "...           ...         ...         ...         ...  \n",
       "828331          0           0           0           0  \n",
       "828332          0           0           0           0  \n",
       "828333          0           0          -1           0  \n",
       "828334          0           0          -1           0  \n",
       "828335          0           0           0           0  \n",
       "\n",
       "[40113 rows x 16 columns]"
      ]
     },
     "execution_count": 29,
     "metadata": {},
     "output_type": "execute_result"
    }
   ],
   "source": [
    "findrow_2 = temp.loc[(temp['quality_2'].isnull())]\n",
    "findrow_2"
   ]
  },
  {
   "cell_type": "code",
   "execution_count": 30,
   "metadata": {},
   "outputs": [
    {
     "data": {
      "text/html": [
       "<div>\n",
       "<style scoped>\n",
       "    .dataframe tbody tr th:only-of-type {\n",
       "        vertical-align: middle;\n",
       "    }\n",
       "\n",
       "    .dataframe tbody tr th {\n",
       "        vertical-align: top;\n",
       "    }\n",
       "\n",
       "    .dataframe thead th {\n",
       "        text-align: right;\n",
       "    }\n",
       "</style>\n",
       "<table border=\"1\" class=\"dataframe\">\n",
       "  <thead>\n",
       "    <tr style=\"text-align: right;\">\n",
       "      <th></th>\n",
       "      <th>time</th>\n",
       "      <th>user_id</th>\n",
       "      <th>fwver</th>\n",
       "      <th>quality_0</th>\n",
       "      <th>quality_1</th>\n",
       "      <th>quality_2</th>\n",
       "      <th>quality_3</th>\n",
       "      <th>quality_4</th>\n",
       "      <th>quality_5</th>\n",
       "      <th>quality_6</th>\n",
       "      <th>quality_7</th>\n",
       "      <th>quality_8</th>\n",
       "      <th>quality_9</th>\n",
       "      <th>quality_10</th>\n",
       "      <th>quality_11</th>\n",
       "      <th>quality_12</th>\n",
       "    </tr>\n",
       "  </thead>\n",
       "  <tbody>\n",
       "    <tr>\n",
       "      <th>38316</th>\n",
       "      <td>20201120010000</td>\n",
       "      <td>10693</td>\n",
       "      <td>NaN</td>\n",
       "      <td>NaN</td>\n",
       "      <td>0</td>\n",
       "      <td>NaN</td>\n",
       "      <td>0</td>\n",
       "      <td>0</td>\n",
       "      <td>0.0</td>\n",
       "      <td>0</td>\n",
       "      <td>0</td>\n",
       "      <td>0</td>\n",
       "      <td>0</td>\n",
       "      <td>0</td>\n",
       "      <td>0</td>\n",
       "      <td>0</td>\n",
       "    </tr>\n",
       "    <tr>\n",
       "      <th>38317</th>\n",
       "      <td>20201120010000</td>\n",
       "      <td>10693</td>\n",
       "      <td>NaN</td>\n",
       "      <td>NaN</td>\n",
       "      <td>0</td>\n",
       "      <td>NaN</td>\n",
       "      <td>0</td>\n",
       "      <td>0</td>\n",
       "      <td>0.0</td>\n",
       "      <td>0</td>\n",
       "      <td>0</td>\n",
       "      <td>0</td>\n",
       "      <td>0</td>\n",
       "      <td>0</td>\n",
       "      <td>0</td>\n",
       "      <td>0</td>\n",
       "    </tr>\n",
       "    <tr>\n",
       "      <th>38318</th>\n",
       "      <td>20201120010000</td>\n",
       "      <td>10693</td>\n",
       "      <td>NaN</td>\n",
       "      <td>NaN</td>\n",
       "      <td>0</td>\n",
       "      <td>NaN</td>\n",
       "      <td>0</td>\n",
       "      <td>0</td>\n",
       "      <td>0.0</td>\n",
       "      <td>0</td>\n",
       "      <td>0</td>\n",
       "      <td>0</td>\n",
       "      <td>0</td>\n",
       "      <td>0</td>\n",
       "      <td>0</td>\n",
       "      <td>0</td>\n",
       "    </tr>\n",
       "    <tr>\n",
       "      <th>38319</th>\n",
       "      <td>20201120010000</td>\n",
       "      <td>10693</td>\n",
       "      <td>NaN</td>\n",
       "      <td>NaN</td>\n",
       "      <td>0</td>\n",
       "      <td>NaN</td>\n",
       "      <td>0</td>\n",
       "      <td>0</td>\n",
       "      <td>0.0</td>\n",
       "      <td>0</td>\n",
       "      <td>0</td>\n",
       "      <td>0</td>\n",
       "      <td>0</td>\n",
       "      <td>0</td>\n",
       "      <td>0</td>\n",
       "      <td>0</td>\n",
       "    </tr>\n",
       "    <tr>\n",
       "      <th>38320</th>\n",
       "      <td>20201120010000</td>\n",
       "      <td>10693</td>\n",
       "      <td>NaN</td>\n",
       "      <td>NaN</td>\n",
       "      <td>0</td>\n",
       "      <td>NaN</td>\n",
       "      <td>0</td>\n",
       "      <td>0</td>\n",
       "      <td>0.0</td>\n",
       "      <td>0</td>\n",
       "      <td>0</td>\n",
       "      <td>0</td>\n",
       "      <td>0</td>\n",
       "      <td>0</td>\n",
       "      <td>0</td>\n",
       "      <td>0</td>\n",
       "    </tr>\n",
       "    <tr>\n",
       "      <th>...</th>\n",
       "      <td>...</td>\n",
       "      <td>...</td>\n",
       "      <td>...</td>\n",
       "      <td>...</td>\n",
       "      <td>...</td>\n",
       "      <td>...</td>\n",
       "      <td>...</td>\n",
       "      <td>...</td>\n",
       "      <td>...</td>\n",
       "      <td>...</td>\n",
       "      <td>...</td>\n",
       "      <td>...</td>\n",
       "      <td>...</td>\n",
       "      <td>...</td>\n",
       "      <td>...</td>\n",
       "      <td>...</td>\n",
       "    </tr>\n",
       "    <tr>\n",
       "      <th>828331</th>\n",
       "      <td>20201109232000</td>\n",
       "      <td>24982</td>\n",
       "      <td>NaN</td>\n",
       "      <td>NaN</td>\n",
       "      <td>0</td>\n",
       "      <td>NaN</td>\n",
       "      <td>0</td>\n",
       "      <td>0</td>\n",
       "      <td>0.0</td>\n",
       "      <td>0</td>\n",
       "      <td>0</td>\n",
       "      <td>0</td>\n",
       "      <td>0</td>\n",
       "      <td>0</td>\n",
       "      <td>0</td>\n",
       "      <td>0</td>\n",
       "    </tr>\n",
       "    <tr>\n",
       "      <th>828332</th>\n",
       "      <td>20201109232000</td>\n",
       "      <td>24982</td>\n",
       "      <td>NaN</td>\n",
       "      <td>NaN</td>\n",
       "      <td>0</td>\n",
       "      <td>NaN</td>\n",
       "      <td>0</td>\n",
       "      <td>0</td>\n",
       "      <td>0.0</td>\n",
       "      <td>0</td>\n",
       "      <td>0</td>\n",
       "      <td>0</td>\n",
       "      <td>0</td>\n",
       "      <td>0</td>\n",
       "      <td>0</td>\n",
       "      <td>0</td>\n",
       "    </tr>\n",
       "    <tr>\n",
       "      <th>828333</th>\n",
       "      <td>20201109232000</td>\n",
       "      <td>24982</td>\n",
       "      <td>NaN</td>\n",
       "      <td>NaN</td>\n",
       "      <td>-1</td>\n",
       "      <td>NaN</td>\n",
       "      <td>0</td>\n",
       "      <td>0</td>\n",
       "      <td>-1.0</td>\n",
       "      <td>-1</td>\n",
       "      <td>0</td>\n",
       "      <td>0</td>\n",
       "      <td>0</td>\n",
       "      <td>0</td>\n",
       "      <td>-1</td>\n",
       "      <td>0</td>\n",
       "    </tr>\n",
       "    <tr>\n",
       "      <th>828334</th>\n",
       "      <td>20201109232000</td>\n",
       "      <td>24982</td>\n",
       "      <td>NaN</td>\n",
       "      <td>NaN</td>\n",
       "      <td>-1</td>\n",
       "      <td>NaN</td>\n",
       "      <td>0</td>\n",
       "      <td>0</td>\n",
       "      <td>-1.0</td>\n",
       "      <td>-1</td>\n",
       "      <td>0</td>\n",
       "      <td>0</td>\n",
       "      <td>0</td>\n",
       "      <td>0</td>\n",
       "      <td>-1</td>\n",
       "      <td>0</td>\n",
       "    </tr>\n",
       "    <tr>\n",
       "      <th>828335</th>\n",
       "      <td>20201109232000</td>\n",
       "      <td>24982</td>\n",
       "      <td>NaN</td>\n",
       "      <td>NaN</td>\n",
       "      <td>0</td>\n",
       "      <td>NaN</td>\n",
       "      <td>0</td>\n",
       "      <td>0</td>\n",
       "      <td>0.0</td>\n",
       "      <td>0</td>\n",
       "      <td>0</td>\n",
       "      <td>0</td>\n",
       "      <td>0</td>\n",
       "      <td>0</td>\n",
       "      <td>0</td>\n",
       "      <td>0</td>\n",
       "    </tr>\n",
       "  </tbody>\n",
       "</table>\n",
       "<p>40080 rows × 16 columns</p>\n",
       "</div>"
      ],
      "text/plain": [
       "                  time  user_id fwver  quality_0  quality_1  quality_2  \\\n",
       "38316   20201120010000    10693   NaN        NaN          0        NaN   \n",
       "38317   20201120010000    10693   NaN        NaN          0        NaN   \n",
       "38318   20201120010000    10693   NaN        NaN          0        NaN   \n",
       "38319   20201120010000    10693   NaN        NaN          0        NaN   \n",
       "38320   20201120010000    10693   NaN        NaN          0        NaN   \n",
       "...                ...      ...   ...        ...        ...        ...   \n",
       "828331  20201109232000    24982   NaN        NaN          0        NaN   \n",
       "828332  20201109232000    24982   NaN        NaN          0        NaN   \n",
       "828333  20201109232000    24982   NaN        NaN         -1        NaN   \n",
       "828334  20201109232000    24982   NaN        NaN         -1        NaN   \n",
       "828335  20201109232000    24982   NaN        NaN          0        NaN   \n",
       "\n",
       "        quality_3  quality_4  quality_5  quality_6  quality_7  quality_8  \\\n",
       "38316           0          0        0.0          0          0          0   \n",
       "38317           0          0        0.0          0          0          0   \n",
       "38318           0          0        0.0          0          0          0   \n",
       "38319           0          0        0.0          0          0          0   \n",
       "38320           0          0        0.0          0          0          0   \n",
       "...           ...        ...        ...        ...        ...        ...   \n",
       "828331          0          0        0.0          0          0          0   \n",
       "828332          0          0        0.0          0          0          0   \n",
       "828333          0          0       -1.0         -1          0          0   \n",
       "828334          0          0       -1.0         -1          0          0   \n",
       "828335          0          0        0.0          0          0          0   \n",
       "\n",
       "        quality_9  quality_10  quality_11  quality_12  \n",
       "38316           0           0           0           0  \n",
       "38317           0           0           0           0  \n",
       "38318           0           0           0           0  \n",
       "38319           0           0           0           0  \n",
       "38320           0           0           0           0  \n",
       "...           ...         ...         ...         ...  \n",
       "828331          0           0           0           0  \n",
       "828332          0           0           0           0  \n",
       "828333          0           0          -1           0  \n",
       "828334          0           0          -1           0  \n",
       "828335          0           0           0           0  \n",
       "\n",
       "[40080 rows x 16 columns]"
      ]
     },
     "execution_count": 30,
     "metadata": {},
     "output_type": "execute_result"
    }
   ],
   "source": [
    "findrow_0and2 = temp.loc[(temp['quality_0'].isnull())&(temp['quality_2'].isnull())]\n",
    "findrow_0and2"
   ]
  },
  {
   "cell_type": "code",
   "execution_count": 135,
   "metadata": {},
   "outputs": [
    {
     "data": {
      "text/html": [
       "<div>\n",
       "<style scoped>\n",
       "    .dataframe tbody tr th:only-of-type {\n",
       "        vertical-align: middle;\n",
       "    }\n",
       "\n",
       "    .dataframe tbody tr th {\n",
       "        vertical-align: top;\n",
       "    }\n",
       "\n",
       "    .dataframe thead th {\n",
       "        text-align: right;\n",
       "    }\n",
       "</style>\n",
       "<table border=\"1\" class=\"dataframe\">\n",
       "  <thead>\n",
       "    <tr style=\"text-align: right;\">\n",
       "      <th></th>\n",
       "      <th>time</th>\n",
       "      <th>user_id</th>\n",
       "      <th>fwver</th>\n",
       "      <th>quality_0</th>\n",
       "      <th>quality_1</th>\n",
       "      <th>quality_2</th>\n",
       "      <th>quality_3</th>\n",
       "      <th>quality_4</th>\n",
       "      <th>quality_5</th>\n",
       "      <th>quality_6</th>\n",
       "      <th>quality_7</th>\n",
       "      <th>quality_8</th>\n",
       "      <th>quality_9</th>\n",
       "      <th>quality_10</th>\n",
       "      <th>quality_11</th>\n",
       "      <th>quality_12</th>\n",
       "    </tr>\n",
       "  </thead>\n",
       "  <tbody>\n",
       "    <tr>\n",
       "      <th>338580</th>\n",
       "      <td>20201121101000</td>\n",
       "      <td>16078</td>\n",
       "      <td>04.16.3553</td>\n",
       "      <td>0.0</td>\n",
       "      <td>0</td>\n",
       "      <td>NaN</td>\n",
       "      <td>0</td>\n",
       "      <td>0</td>\n",
       "      <td>720.0</td>\n",
       "      <td>0</td>\n",
       "      <td>0</td>\n",
       "      <td>0</td>\n",
       "      <td>0</td>\n",
       "      <td>113643</td>\n",
       "      <td>0</td>\n",
       "      <td>0</td>\n",
       "    </tr>\n",
       "    <tr>\n",
       "      <th>338581</th>\n",
       "      <td>20201121101000</td>\n",
       "      <td>16078</td>\n",
       "      <td>04.16.3553</td>\n",
       "      <td>0.0</td>\n",
       "      <td>0</td>\n",
       "      <td>NaN</td>\n",
       "      <td>0</td>\n",
       "      <td>0</td>\n",
       "      <td>2509.0</td>\n",
       "      <td>0</td>\n",
       "      <td>0</td>\n",
       "      <td>0</td>\n",
       "      <td>0</td>\n",
       "      <td>113643</td>\n",
       "      <td>0</td>\n",
       "      <td>0</td>\n",
       "    </tr>\n",
       "    <tr>\n",
       "      <th>338582</th>\n",
       "      <td>20201121101000</td>\n",
       "      <td>16078</td>\n",
       "      <td>04.16.3553</td>\n",
       "      <td>0.0</td>\n",
       "      <td>0</td>\n",
       "      <td>NaN</td>\n",
       "      <td>0</td>\n",
       "      <td>0</td>\n",
       "      <td>3849.0</td>\n",
       "      <td>0</td>\n",
       "      <td>0</td>\n",
       "      <td>0</td>\n",
       "      <td>0</td>\n",
       "      <td>113643</td>\n",
       "      <td>0</td>\n",
       "      <td>0</td>\n",
       "    </tr>\n",
       "    <tr>\n",
       "      <th>338583</th>\n",
       "      <td>20201121101000</td>\n",
       "      <td>16078</td>\n",
       "      <td>04.16.3553</td>\n",
       "      <td>0.0</td>\n",
       "      <td>0</td>\n",
       "      <td>NaN</td>\n",
       "      <td>0</td>\n",
       "      <td>0</td>\n",
       "      <td>6082.0</td>\n",
       "      <td>0</td>\n",
       "      <td>0</td>\n",
       "      <td>0</td>\n",
       "      <td>0</td>\n",
       "      <td>113643</td>\n",
       "      <td>0</td>\n",
       "      <td>0</td>\n",
       "    </tr>\n",
       "    <tr>\n",
       "      <th>338584</th>\n",
       "      <td>20201121101000</td>\n",
       "      <td>16078</td>\n",
       "      <td>04.16.3553</td>\n",
       "      <td>0.0</td>\n",
       "      <td>0</td>\n",
       "      <td>NaN</td>\n",
       "      <td>0</td>\n",
       "      <td>0</td>\n",
       "      <td>8415.0</td>\n",
       "      <td>0</td>\n",
       "      <td>0</td>\n",
       "      <td>0</td>\n",
       "      <td>0</td>\n",
       "      <td>113643</td>\n",
       "      <td>0</td>\n",
       "      <td>0</td>\n",
       "    </tr>\n",
       "    <tr>\n",
       "      <th>338585</th>\n",
       "      <td>20201121101000</td>\n",
       "      <td>16078</td>\n",
       "      <td>04.16.3553</td>\n",
       "      <td>0.0</td>\n",
       "      <td>0</td>\n",
       "      <td>NaN</td>\n",
       "      <td>0</td>\n",
       "      <td>0</td>\n",
       "      <td>9812.0</td>\n",
       "      <td>0</td>\n",
       "      <td>0</td>\n",
       "      <td>0</td>\n",
       "      <td>0</td>\n",
       "      <td>113643</td>\n",
       "      <td>0</td>\n",
       "      <td>0</td>\n",
       "    </tr>\n",
       "    <tr>\n",
       "      <th>338586</th>\n",
       "      <td>20201121101000</td>\n",
       "      <td>16078</td>\n",
       "      <td>04.16.3553</td>\n",
       "      <td>0.0</td>\n",
       "      <td>0</td>\n",
       "      <td>NaN</td>\n",
       "      <td>0</td>\n",
       "      <td>0</td>\n",
       "      <td>10490.0</td>\n",
       "      <td>0</td>\n",
       "      <td>0</td>\n",
       "      <td>0</td>\n",
       "      <td>0</td>\n",
       "      <td>113643</td>\n",
       "      <td>0</td>\n",
       "      <td>0</td>\n",
       "    </tr>\n",
       "    <tr>\n",
       "      <th>338587</th>\n",
       "      <td>20201121101000</td>\n",
       "      <td>16078</td>\n",
       "      <td>04.16.3553</td>\n",
       "      <td>0.0</td>\n",
       "      <td>0</td>\n",
       "      <td>NaN</td>\n",
       "      <td>0</td>\n",
       "      <td>0</td>\n",
       "      <td>10821.0</td>\n",
       "      <td>0</td>\n",
       "      <td>0</td>\n",
       "      <td>0</td>\n",
       "      <td>0</td>\n",
       "      <td>113643</td>\n",
       "      <td>0</td>\n",
       "      <td>0</td>\n",
       "    </tr>\n",
       "    <tr>\n",
       "      <th>338588</th>\n",
       "      <td>20201121101000</td>\n",
       "      <td>16078</td>\n",
       "      <td>04.16.3553</td>\n",
       "      <td>0.0</td>\n",
       "      <td>0</td>\n",
       "      <td>NaN</td>\n",
       "      <td>0</td>\n",
       "      <td>0</td>\n",
       "      <td>12379.0</td>\n",
       "      <td>0</td>\n",
       "      <td>0</td>\n",
       "      <td>0</td>\n",
       "      <td>0</td>\n",
       "      <td>113643</td>\n",
       "      <td>0</td>\n",
       "      <td>0</td>\n",
       "    </tr>\n",
       "    <tr>\n",
       "      <th>338589</th>\n",
       "      <td>20201121101000</td>\n",
       "      <td>16078</td>\n",
       "      <td>04.16.3553</td>\n",
       "      <td>0.0</td>\n",
       "      <td>0</td>\n",
       "      <td>NaN</td>\n",
       "      <td>0</td>\n",
       "      <td>0</td>\n",
       "      <td>14523.0</td>\n",
       "      <td>0</td>\n",
       "      <td>0</td>\n",
       "      <td>0</td>\n",
       "      <td>0</td>\n",
       "      <td>113643</td>\n",
       "      <td>0</td>\n",
       "      <td>0</td>\n",
       "    </tr>\n",
       "    <tr>\n",
       "      <th>338590</th>\n",
       "      <td>20201121101000</td>\n",
       "      <td>16078</td>\n",
       "      <td>04.16.3553</td>\n",
       "      <td>0.0</td>\n",
       "      <td>0</td>\n",
       "      <td>NaN</td>\n",
       "      <td>0</td>\n",
       "      <td>0</td>\n",
       "      <td>14271.0</td>\n",
       "      <td>0</td>\n",
       "      <td>0</td>\n",
       "      <td>0</td>\n",
       "      <td>0</td>\n",
       "      <td>113643</td>\n",
       "      <td>0</td>\n",
       "      <td>0</td>\n",
       "    </tr>\n",
       "    <tr>\n",
       "      <th>338591</th>\n",
       "      <td>20201121101000</td>\n",
       "      <td>16078</td>\n",
       "      <td>04.16.3553</td>\n",
       "      <td>0.0</td>\n",
       "      <td>0</td>\n",
       "      <td>NaN</td>\n",
       "      <td>0</td>\n",
       "      <td>0</td>\n",
       "      <td>19772.0</td>\n",
       "      <td>0</td>\n",
       "      <td>0</td>\n",
       "      <td>0</td>\n",
       "      <td>0</td>\n",
       "      <td>113643</td>\n",
       "      <td>0</td>\n",
       "      <td>0</td>\n",
       "    </tr>\n",
       "    <tr>\n",
       "      <th>694058</th>\n",
       "      <td>20201116044000</td>\n",
       "      <td>22665</td>\n",
       "      <td>04.16.3553</td>\n",
       "      <td>0.0</td>\n",
       "      <td>0</td>\n",
       "      <td>NaN</td>\n",
       "      <td>0</td>\n",
       "      <td>0</td>\n",
       "      <td>16213.0</td>\n",
       "      <td>0</td>\n",
       "      <td>0</td>\n",
       "      <td>0</td>\n",
       "      <td>12098</td>\n",
       "      <td>175983</td>\n",
       "      <td>0</td>\n",
       "      <td>0</td>\n",
       "    </tr>\n",
       "    <tr>\n",
       "      <th>694059</th>\n",
       "      <td>20201116044000</td>\n",
       "      <td>22665</td>\n",
       "      <td>04.16.3553</td>\n",
       "      <td>0.0</td>\n",
       "      <td>0</td>\n",
       "      <td>NaN</td>\n",
       "      <td>0</td>\n",
       "      <td>0</td>\n",
       "      <td>15572.0</td>\n",
       "      <td>0</td>\n",
       "      <td>0</td>\n",
       "      <td>0</td>\n",
       "      <td>12098</td>\n",
       "      <td>175983</td>\n",
       "      <td>0</td>\n",
       "      <td>0</td>\n",
       "    </tr>\n",
       "    <tr>\n",
       "      <th>694060</th>\n",
       "      <td>20201116044000</td>\n",
       "      <td>22665</td>\n",
       "      <td>04.16.3553</td>\n",
       "      <td>0.0</td>\n",
       "      <td>0</td>\n",
       "      <td>NaN</td>\n",
       "      <td>0</td>\n",
       "      <td>0</td>\n",
       "      <td>14550.0</td>\n",
       "      <td>0</td>\n",
       "      <td>0</td>\n",
       "      <td>0</td>\n",
       "      <td>12098</td>\n",
       "      <td>175983</td>\n",
       "      <td>0</td>\n",
       "      <td>0</td>\n",
       "    </tr>\n",
       "    <tr>\n",
       "      <th>694061</th>\n",
       "      <td>20201116044000</td>\n",
       "      <td>22665</td>\n",
       "      <td>04.16.3553</td>\n",
       "      <td>0.0</td>\n",
       "      <td>0</td>\n",
       "      <td>NaN</td>\n",
       "      <td>0</td>\n",
       "      <td>0</td>\n",
       "      <td>14487.0</td>\n",
       "      <td>0</td>\n",
       "      <td>0</td>\n",
       "      <td>0</td>\n",
       "      <td>12098</td>\n",
       "      <td>175983</td>\n",
       "      <td>0</td>\n",
       "      <td>0</td>\n",
       "    </tr>\n",
       "    <tr>\n",
       "      <th>694062</th>\n",
       "      <td>20201116044000</td>\n",
       "      <td>22665</td>\n",
       "      <td>04.16.3553</td>\n",
       "      <td>0.0</td>\n",
       "      <td>0</td>\n",
       "      <td>NaN</td>\n",
       "      <td>0</td>\n",
       "      <td>0</td>\n",
       "      <td>14201.0</td>\n",
       "      <td>0</td>\n",
       "      <td>0</td>\n",
       "      <td>0</td>\n",
       "      <td>12098</td>\n",
       "      <td>175983</td>\n",
       "      <td>0</td>\n",
       "      <td>0</td>\n",
       "    </tr>\n",
       "    <tr>\n",
       "      <th>694063</th>\n",
       "      <td>20201116044000</td>\n",
       "      <td>22665</td>\n",
       "      <td>04.16.3553</td>\n",
       "      <td>0.0</td>\n",
       "      <td>0</td>\n",
       "      <td>NaN</td>\n",
       "      <td>0</td>\n",
       "      <td>0</td>\n",
       "      <td>14211.0</td>\n",
       "      <td>0</td>\n",
       "      <td>0</td>\n",
       "      <td>0</td>\n",
       "      <td>12098</td>\n",
       "      <td>175983</td>\n",
       "      <td>0</td>\n",
       "      <td>0</td>\n",
       "    </tr>\n",
       "    <tr>\n",
       "      <th>694064</th>\n",
       "      <td>20201116044000</td>\n",
       "      <td>22665</td>\n",
       "      <td>04.16.3553</td>\n",
       "      <td>0.0</td>\n",
       "      <td>0</td>\n",
       "      <td>NaN</td>\n",
       "      <td>0</td>\n",
       "      <td>0</td>\n",
       "      <td>13863.0</td>\n",
       "      <td>0</td>\n",
       "      <td>0</td>\n",
       "      <td>0</td>\n",
       "      <td>12098</td>\n",
       "      <td>175983</td>\n",
       "      <td>0</td>\n",
       "      <td>0</td>\n",
       "    </tr>\n",
       "    <tr>\n",
       "      <th>694065</th>\n",
       "      <td>20201116044000</td>\n",
       "      <td>22665</td>\n",
       "      <td>04.16.3553</td>\n",
       "      <td>0.0</td>\n",
       "      <td>0</td>\n",
       "      <td>NaN</td>\n",
       "      <td>0</td>\n",
       "      <td>0</td>\n",
       "      <td>13386.0</td>\n",
       "      <td>0</td>\n",
       "      <td>0</td>\n",
       "      <td>0</td>\n",
       "      <td>12098</td>\n",
       "      <td>175983</td>\n",
       "      <td>0</td>\n",
       "      <td>0</td>\n",
       "    </tr>\n",
       "    <tr>\n",
       "      <th>694066</th>\n",
       "      <td>20201116044000</td>\n",
       "      <td>22665</td>\n",
       "      <td>04.16.3553</td>\n",
       "      <td>0.0</td>\n",
       "      <td>0</td>\n",
       "      <td>NaN</td>\n",
       "      <td>0</td>\n",
       "      <td>0</td>\n",
       "      <td>13009.0</td>\n",
       "      <td>0</td>\n",
       "      <td>0</td>\n",
       "      <td>0</td>\n",
       "      <td>12098</td>\n",
       "      <td>175983</td>\n",
       "      <td>0</td>\n",
       "      <td>0</td>\n",
       "    </tr>\n",
       "    <tr>\n",
       "      <th>694067</th>\n",
       "      <td>20201116044000</td>\n",
       "      <td>22665</td>\n",
       "      <td>04.16.3553</td>\n",
       "      <td>0.0</td>\n",
       "      <td>0</td>\n",
       "      <td>NaN</td>\n",
       "      <td>0</td>\n",
       "      <td>0</td>\n",
       "      <td>12089.0</td>\n",
       "      <td>0</td>\n",
       "      <td>0</td>\n",
       "      <td>0</td>\n",
       "      <td>12098</td>\n",
       "      <td>175983</td>\n",
       "      <td>0</td>\n",
       "      <td>0</td>\n",
       "    </tr>\n",
       "    <tr>\n",
       "      <th>694069</th>\n",
       "      <td>20201116064000</td>\n",
       "      <td>22665</td>\n",
       "      <td>04.16.3553</td>\n",
       "      <td>0.0</td>\n",
       "      <td>0</td>\n",
       "      <td>NaN</td>\n",
       "      <td>0</td>\n",
       "      <td>0</td>\n",
       "      <td>11642.0</td>\n",
       "      <td>0</td>\n",
       "      <td>0</td>\n",
       "      <td>0</td>\n",
       "      <td>26</td>\n",
       "      <td>119381</td>\n",
       "      <td>0</td>\n",
       "      <td>0</td>\n",
       "    </tr>\n",
       "    <tr>\n",
       "      <th>694070</th>\n",
       "      <td>20201116064000</td>\n",
       "      <td>22665</td>\n",
       "      <td>04.16.3553</td>\n",
       "      <td>0.0</td>\n",
       "      <td>0</td>\n",
       "      <td>NaN</td>\n",
       "      <td>0</td>\n",
       "      <td>0</td>\n",
       "      <td>11292.0</td>\n",
       "      <td>0</td>\n",
       "      <td>0</td>\n",
       "      <td>0</td>\n",
       "      <td>26</td>\n",
       "      <td>119381</td>\n",
       "      <td>0</td>\n",
       "      <td>0</td>\n",
       "    </tr>\n",
       "    <tr>\n",
       "      <th>694071</th>\n",
       "      <td>20201116064000</td>\n",
       "      <td>22665</td>\n",
       "      <td>04.16.3553</td>\n",
       "      <td>0.0</td>\n",
       "      <td>0</td>\n",
       "      <td>NaN</td>\n",
       "      <td>0</td>\n",
       "      <td>0</td>\n",
       "      <td>10868.0</td>\n",
       "      <td>0</td>\n",
       "      <td>0</td>\n",
       "      <td>0</td>\n",
       "      <td>26</td>\n",
       "      <td>119381</td>\n",
       "      <td>0</td>\n",
       "      <td>0</td>\n",
       "    </tr>\n",
       "    <tr>\n",
       "      <th>694072</th>\n",
       "      <td>20201116064000</td>\n",
       "      <td>22665</td>\n",
       "      <td>04.16.3553</td>\n",
       "      <td>0.0</td>\n",
       "      <td>0</td>\n",
       "      <td>NaN</td>\n",
       "      <td>0</td>\n",
       "      <td>0</td>\n",
       "      <td>10415.0</td>\n",
       "      <td>0</td>\n",
       "      <td>0</td>\n",
       "      <td>0</td>\n",
       "      <td>26</td>\n",
       "      <td>119381</td>\n",
       "      <td>0</td>\n",
       "      <td>0</td>\n",
       "    </tr>\n",
       "    <tr>\n",
       "      <th>694073</th>\n",
       "      <td>20201116064000</td>\n",
       "      <td>22665</td>\n",
       "      <td>04.16.3553</td>\n",
       "      <td>0.0</td>\n",
       "      <td>0</td>\n",
       "      <td>NaN</td>\n",
       "      <td>0</td>\n",
       "      <td>0</td>\n",
       "      <td>10238.0</td>\n",
       "      <td>0</td>\n",
       "      <td>0</td>\n",
       "      <td>0</td>\n",
       "      <td>26</td>\n",
       "      <td>119381</td>\n",
       "      <td>0</td>\n",
       "      <td>0</td>\n",
       "    </tr>\n",
       "    <tr>\n",
       "      <th>694074</th>\n",
       "      <td>20201116064000</td>\n",
       "      <td>22665</td>\n",
       "      <td>04.16.3553</td>\n",
       "      <td>0.0</td>\n",
       "      <td>0</td>\n",
       "      <td>NaN</td>\n",
       "      <td>0</td>\n",
       "      <td>0</td>\n",
       "      <td>10110.0</td>\n",
       "      <td>0</td>\n",
       "      <td>0</td>\n",
       "      <td>0</td>\n",
       "      <td>26</td>\n",
       "      <td>119381</td>\n",
       "      <td>0</td>\n",
       "      <td>0</td>\n",
       "    </tr>\n",
       "    <tr>\n",
       "      <th>694075</th>\n",
       "      <td>20201116064000</td>\n",
       "      <td>22665</td>\n",
       "      <td>04.16.3553</td>\n",
       "      <td>0.0</td>\n",
       "      <td>0</td>\n",
       "      <td>NaN</td>\n",
       "      <td>0</td>\n",
       "      <td>0</td>\n",
       "      <td>9505.0</td>\n",
       "      <td>0</td>\n",
       "      <td>0</td>\n",
       "      <td>0</td>\n",
       "      <td>26</td>\n",
       "      <td>119381</td>\n",
       "      <td>0</td>\n",
       "      <td>0</td>\n",
       "    </tr>\n",
       "    <tr>\n",
       "      <th>694076</th>\n",
       "      <td>20201116064000</td>\n",
       "      <td>22665</td>\n",
       "      <td>04.16.3553</td>\n",
       "      <td>0.0</td>\n",
       "      <td>0</td>\n",
       "      <td>NaN</td>\n",
       "      <td>0</td>\n",
       "      <td>0</td>\n",
       "      <td>8860.0</td>\n",
       "      <td>0</td>\n",
       "      <td>0</td>\n",
       "      <td>0</td>\n",
       "      <td>26</td>\n",
       "      <td>119381</td>\n",
       "      <td>0</td>\n",
       "      <td>0</td>\n",
       "    </tr>\n",
       "    <tr>\n",
       "      <th>694077</th>\n",
       "      <td>20201116064000</td>\n",
       "      <td>22665</td>\n",
       "      <td>04.16.3553</td>\n",
       "      <td>0.0</td>\n",
       "      <td>0</td>\n",
       "      <td>NaN</td>\n",
       "      <td>0</td>\n",
       "      <td>0</td>\n",
       "      <td>8626.0</td>\n",
       "      <td>0</td>\n",
       "      <td>0</td>\n",
       "      <td>0</td>\n",
       "      <td>26</td>\n",
       "      <td>119381</td>\n",
       "      <td>0</td>\n",
       "      <td>0</td>\n",
       "    </tr>\n",
       "    <tr>\n",
       "      <th>694078</th>\n",
       "      <td>20201116064000</td>\n",
       "      <td>22665</td>\n",
       "      <td>04.16.3553</td>\n",
       "      <td>0.0</td>\n",
       "      <td>0</td>\n",
       "      <td>NaN</td>\n",
       "      <td>0</td>\n",
       "      <td>0</td>\n",
       "      <td>8176.0</td>\n",
       "      <td>0</td>\n",
       "      <td>0</td>\n",
       "      <td>0</td>\n",
       "      <td>26</td>\n",
       "      <td>119381</td>\n",
       "      <td>0</td>\n",
       "      <td>0</td>\n",
       "    </tr>\n",
       "    <tr>\n",
       "      <th>694079</th>\n",
       "      <td>20201116064000</td>\n",
       "      <td>22665</td>\n",
       "      <td>04.16.3553</td>\n",
       "      <td>0.0</td>\n",
       "      <td>0</td>\n",
       "      <td>NaN</td>\n",
       "      <td>0</td>\n",
       "      <td>0</td>\n",
       "      <td>8026.0</td>\n",
       "      <td>0</td>\n",
       "      <td>0</td>\n",
       "      <td>0</td>\n",
       "      <td>26</td>\n",
       "      <td>119381</td>\n",
       "      <td>0</td>\n",
       "      <td>0</td>\n",
       "    </tr>\n",
       "  </tbody>\n",
       "</table>\n",
       "</div>"
      ],
      "text/plain": [
       "                  time  user_id       fwver  quality_0  quality_1  quality_2  \\\n",
       "338580  20201121101000    16078  04.16.3553        0.0          0        NaN   \n",
       "338581  20201121101000    16078  04.16.3553        0.0          0        NaN   \n",
       "338582  20201121101000    16078  04.16.3553        0.0          0        NaN   \n",
       "338583  20201121101000    16078  04.16.3553        0.0          0        NaN   \n",
       "338584  20201121101000    16078  04.16.3553        0.0          0        NaN   \n",
       "338585  20201121101000    16078  04.16.3553        0.0          0        NaN   \n",
       "338586  20201121101000    16078  04.16.3553        0.0          0        NaN   \n",
       "338587  20201121101000    16078  04.16.3553        0.0          0        NaN   \n",
       "338588  20201121101000    16078  04.16.3553        0.0          0        NaN   \n",
       "338589  20201121101000    16078  04.16.3553        0.0          0        NaN   \n",
       "338590  20201121101000    16078  04.16.3553        0.0          0        NaN   \n",
       "338591  20201121101000    16078  04.16.3553        0.0          0        NaN   \n",
       "694058  20201116044000    22665  04.16.3553        0.0          0        NaN   \n",
       "694059  20201116044000    22665  04.16.3553        0.0          0        NaN   \n",
       "694060  20201116044000    22665  04.16.3553        0.0          0        NaN   \n",
       "694061  20201116044000    22665  04.16.3553        0.0          0        NaN   \n",
       "694062  20201116044000    22665  04.16.3553        0.0          0        NaN   \n",
       "694063  20201116044000    22665  04.16.3553        0.0          0        NaN   \n",
       "694064  20201116044000    22665  04.16.3553        0.0          0        NaN   \n",
       "694065  20201116044000    22665  04.16.3553        0.0          0        NaN   \n",
       "694066  20201116044000    22665  04.16.3553        0.0          0        NaN   \n",
       "694067  20201116044000    22665  04.16.3553        0.0          0        NaN   \n",
       "694069  20201116064000    22665  04.16.3553        0.0          0        NaN   \n",
       "694070  20201116064000    22665  04.16.3553        0.0          0        NaN   \n",
       "694071  20201116064000    22665  04.16.3553        0.0          0        NaN   \n",
       "694072  20201116064000    22665  04.16.3553        0.0          0        NaN   \n",
       "694073  20201116064000    22665  04.16.3553        0.0          0        NaN   \n",
       "694074  20201116064000    22665  04.16.3553        0.0          0        NaN   \n",
       "694075  20201116064000    22665  04.16.3553        0.0          0        NaN   \n",
       "694076  20201116064000    22665  04.16.3553        0.0          0        NaN   \n",
       "694077  20201116064000    22665  04.16.3553        0.0          0        NaN   \n",
       "694078  20201116064000    22665  04.16.3553        0.0          0        NaN   \n",
       "694079  20201116064000    22665  04.16.3553        0.0          0        NaN   \n",
       "\n",
       "        quality_3  quality_4  quality_5  quality_6  quality_7  quality_8  \\\n",
       "338580          0          0      720.0          0          0          0   \n",
       "338581          0          0     2509.0          0          0          0   \n",
       "338582          0          0     3849.0          0          0          0   \n",
       "338583          0          0     6082.0          0          0          0   \n",
       "338584          0          0     8415.0          0          0          0   \n",
       "338585          0          0     9812.0          0          0          0   \n",
       "338586          0          0    10490.0          0          0          0   \n",
       "338587          0          0    10821.0          0          0          0   \n",
       "338588          0          0    12379.0          0          0          0   \n",
       "338589          0          0    14523.0          0          0          0   \n",
       "338590          0          0    14271.0          0          0          0   \n",
       "338591          0          0    19772.0          0          0          0   \n",
       "694058          0          0    16213.0          0          0          0   \n",
       "694059          0          0    15572.0          0          0          0   \n",
       "694060          0          0    14550.0          0          0          0   \n",
       "694061          0          0    14487.0          0          0          0   \n",
       "694062          0          0    14201.0          0          0          0   \n",
       "694063          0          0    14211.0          0          0          0   \n",
       "694064          0          0    13863.0          0          0          0   \n",
       "694065          0          0    13386.0          0          0          0   \n",
       "694066          0          0    13009.0          0          0          0   \n",
       "694067          0          0    12089.0          0          0          0   \n",
       "694069          0          0    11642.0          0          0          0   \n",
       "694070          0          0    11292.0          0          0          0   \n",
       "694071          0          0    10868.0          0          0          0   \n",
       "694072          0          0    10415.0          0          0          0   \n",
       "694073          0          0    10238.0          0          0          0   \n",
       "694074          0          0    10110.0          0          0          0   \n",
       "694075          0          0     9505.0          0          0          0   \n",
       "694076          0          0     8860.0          0          0          0   \n",
       "694077          0          0     8626.0          0          0          0   \n",
       "694078          0          0     8176.0          0          0          0   \n",
       "694079          0          0     8026.0          0          0          0   \n",
       "\n",
       "        quality_9  quality_10  quality_11  quality_12  \n",
       "338580          0      113643           0           0  \n",
       "338581          0      113643           0           0  \n",
       "338582          0      113643           0           0  \n",
       "338583          0      113643           0           0  \n",
       "338584          0      113643           0           0  \n",
       "338585          0      113643           0           0  \n",
       "338586          0      113643           0           0  \n",
       "338587          0      113643           0           0  \n",
       "338588          0      113643           0           0  \n",
       "338589          0      113643           0           0  \n",
       "338590          0      113643           0           0  \n",
       "338591          0      113643           0           0  \n",
       "694058      12098      175983           0           0  \n",
       "694059      12098      175983           0           0  \n",
       "694060      12098      175983           0           0  \n",
       "694061      12098      175983           0           0  \n",
       "694062      12098      175983           0           0  \n",
       "694063      12098      175983           0           0  \n",
       "694064      12098      175983           0           0  \n",
       "694065      12098      175983           0           0  \n",
       "694066      12098      175983           0           0  \n",
       "694067      12098      175983           0           0  \n",
       "694069         26      119381           0           0  \n",
       "694070         26      119381           0           0  \n",
       "694071         26      119381           0           0  \n",
       "694072         26      119381           0           0  \n",
       "694073         26      119381           0           0  \n",
       "694074         26      119381           0           0  \n",
       "694075         26      119381           0           0  \n",
       "694076         26      119381           0           0  \n",
       "694077         26      119381           0           0  \n",
       "694078         26      119381           0           0  \n",
       "694079         26      119381           0           0  "
      ]
     },
     "execution_count": 135,
     "metadata": {},
     "output_type": "execute_result"
    }
   ],
   "source": [
    "findrow_0butnot2 = temp.loc[(temp['quality_2'].isnull())& ~(temp['quality_0'].isnull())]\n",
    "findrow_0butnot2"
   ]
  },
  {
   "cell_type": "markdown",
   "metadata": {},
   "source": [
    "# => quality_0, quality_2 관련이 있나?\n",
    "\n",
    "## quality 2가 nan 값인 40113개중, quality 0이 nan값인 경우가 40080개.\n",
    "## quality 2가 nan 값인데 quality 0이 nan 값이 아닌 경우: 33개. 이 경우 quality 0의 값? 0.0\n",
    "\n",
    "## 유의미해 보이므로, nan 값을 없애지 않고 그대로 보존?하기로!"
   ]
  },
  {
   "cell_type": "markdown",
   "metadata": {},
   "source": [
    "## ########################################################################\n",
    "\n",
    "## quality_5 - > nan 값 20개. 무슨 값으로 올려야 하나..?"
   ]
  },
  {
   "cell_type": "code",
   "execution_count": 31,
   "metadata": {
    "scrolled": false
   },
   "outputs": [
    {
     "data": {
      "text/plain": [
       "Text(0.5, 1.0, 'type Values in the Training Set - train ()')"
      ]
     },
     "execution_count": 31,
     "metadata": {},
     "output_type": "execute_result"
    },
    {
     "data": {
      "image/png": "[encoded data removed]",
      "text/plain": [
       "<Figure size 1296x648 with 1 Axes>"
      ]
     },
     "metadata": {
      "needs_background": "light"
     },
     "output_type": "display_data"
    }
   ],
   "source": [
    "fig = plt.figure(figsize=(18,9))\n",
    "plt.subplots_adjust(hspace=.5)\n",
    "\n",
    "plt.subplot2grid((3,3), (0,0), colspan = 3)\n",
    "train_quality['quality_5'].value_counts()[:50].plot(kind='bar', alpha=0.7)\n",
    "plt.title('type Values in the Training Set - train ()')"
   ]
  },
  {
   "cell_type": "markdown",
   "metadata": {},
   "source": [
    "## ㅠㅠ 여기까지밖에 못했습니다"
   ]
  },
  {
   "cell_type": "code",
   "execution_count": null,
   "metadata": {},
   "outputs": [],
   "source": []
  },
  {
   "cell_type": "code",
   "execution_count": null,
   "metadata": {},
   "outputs": [],
   "source": []
  }
 ],
 "metadata": {
  "kernelspec": {
   "display_name": "Python 3",
   "language": "python",
   "name": "python3"
  },
  "language_info": {
   "codemirror_mode": {
    "name": "ipython",
    "version": 3
   },
   "file_extension": ".py",
   "mimetype": "text/x-python",
   "name": "python",
   "nbconvert_exporter": "python",
   "pygments_lexer": "ipython3",
   "version": "3.8.5"
  }
 },
 "nbformat": 4,
 "nbformat_minor": 4
}
